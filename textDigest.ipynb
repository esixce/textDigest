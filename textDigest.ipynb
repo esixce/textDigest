{
 "cells": [
  {
   "cell_type": "code",
   "execution_count": 1,
   "id": "b4c5e3b4",
   "metadata": {
    "extensions": {
     "jupyter_dashboards": {
      "version": 1,
      "views": {
       "grid_default": {},
       "report_default": {
        "hidden": true
       }
      }
     }
    }
   },
   "outputs": [],
   "source": [
    "import nltk\n",
    "import os\n",
    "import csv\n",
    "import string\n",
    "import json\n",
    "\n",
    "import matplotlib.pyplot as plt\n",
    "\n",
    "from nltk.tokenize import word_tokenize\n",
    "from nltk.corpus import stopwords\n",
    "from nltk.stem import PorterStemmer\n",
    "from nltk import FreqDist\n",
    "from nltk.sentiment import SentimentIntensityAnalyzer\n",
    "\n",
    "# import ssl\n",
    "# ssl._create_default_https_context = ssl._create_unverified_context"
   ]
  },
  {
   "cell_type": "code",
   "execution_count": 2,
   "id": "ebdfd637",
   "metadata": {
    "extensions": {
     "jupyter_dashboards": {
      "version": 1,
      "views": {
       "grid_default": {},
       "report_default": {
        "hidden": true
       }
      }
     }
    }
   },
   "outputs": [],
   "source": [
    "# Open the file and read its contents\n",
    "with open('input/chatgpt.txt', 'r') as file:\n",
    "    text = file.read()\n",
    "    \n",
    "# os.path.join(os.getcwd(), '..', 'input/chatgpt.txt')"
   ]
  },
  {
   "cell_type": "code",
   "execution_count": 3,
   "id": "f2cb403c",
   "metadata": {},
   "outputs": [],
   "source": [
    "tokens = word_tokenize(text)"
   ]
  },
  {
   "cell_type": "code",
   "execution_count": 4,
   "id": "3610d4c6",
   "metadata": {},
   "outputs": [],
   "source": [
    "sia = SentimentIntensityAnalyzer()\n",
    "overall_sentiment = sia.polarity_scores(text)"
   ]
  },
  {
   "cell_type": "code",
   "execution_count": 5,
   "id": "d73faffe",
   "metadata": {},
   "outputs": [],
   "source": [
    "sentences = nltk.sent_tokenize(text)\n",
    "sentences_sentiment = []\n",
    "for sentence in sentences:\n",
    "    sentiment_scores = sia.polarity_scores(sentence)\n",
    "    sentiment_scores['sentence'] = sentence\n",
    "    sentences_sentiment.append(sentiment_scores)"
   ]
  },
  {
   "cell_type": "code",
   "execution_count": 6,
   "id": "226076f4",
   "metadata": {},
   "outputs": [],
   "source": [
    "stopwords = set(stopwords.words('english'))\n",
    "stemmer = PorterStemmer()"
   ]
  },
  {
   "cell_type": "code",
   "execution_count": 7,
   "id": "a1eeb76c",
   "metadata": {
    "extensions": {
     "jupyter_dashboards": {
      "version": 1,
      "views": {
       "grid_default": {},
       "report_default": {
        "hidden": true
       }
      }
     }
    }
   },
   "outputs": [],
   "source": [
    "tokens_clean = [token.lower() for token in tokens if not token.startswith(\"'\") and token not in string.punctuation]\n",
    "fdistClean = FreqDist(tokens_clean)\n",
    "tokens_unique = list(set(tokens_clean))\n",
    "tokens_hapaxes = set(fdistClean.hapaxes())\n",
    "tokens_tags = nltk.pos_tag(tokens_clean)\n",
    "\n",
    "tokens_final = []\n",
    "for token, category in tokens_tags:\n",
    "    tokens_final.append((token, category, fdistClean.freq(token), sia.polarity_scores(token)))"
   ]
  },
  {
   "cell_type": "code",
   "execution_count": 8,
   "id": "c148c69f",
   "metadata": {},
   "outputs": [],
   "source": [
    "tokens_filtered_stemmed = [stemmer.stem(token) for token in tokens_clean if token.lower() not in stopwords]\n",
    "fdistStemmed = FreqDist(tokens_filtered_stemmed)\n",
    "tokens_stemmed_unique = list(set(tokens_filtered_stemmed))\n",
    "tokens_stemmed_hapaxes = set(fdistStemmed.hapaxes())\n",
    "tokens_stemmed_tags = nltk.pos_tag(tokens_filtered_stemmed)\n",
    "\n",
    "tokens_stemmed_final = []\n",
    "for token, category in tokens_stemmed_tags:\n",
    "    tokens_stemmed_final.append((token, category, fdistStemmed.freq(token), sia.polarity_scores(token)))    "
   ]
  },
  {
   "cell_type": "code",
   "execution_count": 9,
   "id": "7232423a",
   "metadata": {},
   "outputs": [],
   "source": [
    "# general stats\n",
    "txtSpecs = {\n",
    "    'totalTokens' : len(tokens),\n",
    "    'totalTokensClean' : len(tokens_clean),\n",
    "    'totalTokensUnique' : len(tokens_unique),\n",
    "    'totalTokensHapaxes' : len(tokens_hapaxes),\n",
    "    'totalFilteredStemmed' : len(tokens_filtered_stemmed),\n",
    "    'totalFilteredStemmedUnique' : len(tokens_stemmed_unique),\n",
    "    'totalFilteredStemmedHapaxes' : len(tokens_stemmed_hapaxes),\n",
    "    'totalSentences' : len(sentences),\n",
    "    'sentiment': {\n",
    "        'neg': overall_sentiment['neg'], \n",
    "        'neu': overall_sentiment['neu'], \n",
    "        'pos': overall_sentiment['pos'], \n",
    "        'compound': overall_sentiment['compound']\n",
    "    }\n",
    "}"
   ]
  },
  {
   "cell_type": "code",
   "execution_count": 10,
   "id": "b644f76b",
   "metadata": {},
   "outputs": [],
   "source": [
    "# THINGS TO SAVE:\n",
    "# txtSpecs\n",
    "\n",
    "# tokens_final\n",
    "# tokens_unique\n",
    "# tokens_hapaxes\n",
    "\n",
    "# tokens_stemmed_final\n",
    "# tokens_stemmed_unique\n",
    "# tokens_stemmed_hapaxes\n",
    "\n",
    "# sentences\n",
    "# sentences_sentiment"
   ]
  },
  {
   "cell_type": "code",
   "execution_count": 11,
   "id": "f4b5898f",
   "metadata": {
    "scrolled": false
   },
   "outputs": [],
   "source": [
    "# tokens_clean_fdist = list(fdistClean.items())\n",
    "# tokensFiltered = list(fdistFiltered.most_common(31))"
   ]
  },
  {
   "cell_type": "code",
   "execution_count": 12,
   "id": "953025d5",
   "metadata": {},
   "outputs": [],
   "source": [
    "with open(os.path.join(os.getcwd(), '..', 'landigest/input/txtSpecs.txt'), \"w\") as file:\n",
    "    json.dump(txtSpecs, file)"
   ]
  },
  {
   "cell_type": "code",
   "execution_count": 13,
   "id": "e241a8d1",
   "metadata": {},
   "outputs": [],
   "source": [
    "# WRITE CLEAN BATCH #\n",
    "with open(os.path.join(os.getcwd(), '..', 'landigest/input/tokensFinal.csv'), \"w\", newline=\"\") as csvfile:\n",
    "    writer = csv.writer(csvfile)\n",
    "    writer.writerow(['Token', 'Category', 'Frequency', 'neg', 'neu', 'pos', 'compound'])\n",
    "    for item in tokens_final:\n",
    "        writer.writerow([item[0], item[1], item[2], item[3]['neg'], item[3]['neu'], item[3]['pos'], item[3]['compound']])"
   ]
  },
  {
   "cell_type": "code",
   "execution_count": 14,
   "id": "a8a65d83",
   "metadata": {},
   "outputs": [],
   "source": [
    "with open(os.path.join(os.getcwd(), '..', 'landigest/input/tokensUnique.csv'), \"w\", newline=\"\") as csvfile:\n",
    "    writer = csv.writer(csvfile)\n",
    "    writer.writerow([\"Token\"])\n",
    "    for item in tokens_unique:\n",
    "        writer.writerow([item[0]])"
   ]
  },
  {
   "cell_type": "code",
   "execution_count": 15,
   "id": "2092ab2c",
   "metadata": {},
   "outputs": [],
   "source": [
    "with open(os.path.join(os.getcwd(), '..', 'landigest/input/tokensHapaxes.csv'), \"w\", newline=\"\") as csvfile:\n",
    "    writer = csv.writer(csvfile)\n",
    "    writer.writerow([\"Token\"])\n",
    "    for item in tokens_hapaxes:\n",
    "        writer.writerow([item[0]])"
   ]
  },
  {
   "cell_type": "code",
   "execution_count": 16,
   "id": "0a310366",
   "metadata": {},
   "outputs": [],
   "source": [
    "# WRITE STEMMED BATCH #\n",
    "with open(os.path.join(os.getcwd(), '..', 'landigest/input/tokensStemmedFinal.csv'), \"w\", newline=\"\") as csvfile:\n",
    "    writer = csv.writer(csvfile)\n",
    "    writer.writerow(['Token', 'Category', 'Frequency', 'neg', 'neu', 'pos', 'compound'])\n",
    "    for item in tokens_stemmed_final:\n",
    "        writer.writerow([item[0], item[1], item[2], item[3]['neg'], item[3]['neu'], item[3]['pos'], item[3]['compound']])"
   ]
  },
  {
   "cell_type": "code",
   "execution_count": 17,
   "id": "3d1ae5bd",
   "metadata": {
    "extensions": {
     "jupyter_dashboards": {
      "version": 1,
      "views": {
       "grid_default": {},
       "report_default": {
        "hidden": true
       }
      }
     }
    }
   },
   "outputs": [],
   "source": [
    "with open(os.path.join(os.getcwd(), '..', 'landigest/input/tokensStemmedUnique.csv'), \"w\", newline=\"\") as csvfile:\n",
    "    writer = csv.writer(csvfile)\n",
    "    writer.writerow([\"Token\"])\n",
    "    for item in tokens_stemmed_unique:\n",
    "        writer.writerow([item[0]])"
   ]
  },
  {
   "cell_type": "code",
   "execution_count": 18,
   "id": "f5c62fe2",
   "metadata": {},
   "outputs": [],
   "source": [
    "with open(os.path.join(os.getcwd(), '..', 'landigest/input/tokensStemmedHapaxes.csv'), \"w\", newline=\"\") as csvfile:\n",
    "    writer = csv.writer(csvfile)\n",
    "    writer.writerow([\"Token\"])\n",
    "    for item in tokens_stemmed_hapaxes:\n",
    "        writer.writerow([item[0]])"
   ]
  },
  {
   "cell_type": "code",
   "execution_count": 19,
   "id": "376cfdf4",
   "metadata": {},
   "outputs": [],
   "source": [
    "# SENTENCES #\n",
    "with open(os.path.join(os.getcwd(), '..', 'landigest/input/sentences.csv'), \"w\", newline=\"\") as csvfile:\n",
    "    writer = csv.writer(csvfile)\n",
    "    writer.writerow([\"Sentences\"])\n",
    "    for item in sentences:\n",
    "        writer.writerow([item[0]])"
   ]
  },
  {
   "cell_type": "code",
   "execution_count": 21,
   "id": "3f407c18",
   "metadata": {},
   "outputs": [],
   "source": [
    "with open(os.path.join(os.getcwd(), '..', 'landigest/input/sentenceSentiment.csv'), \"w\", newline=\"\") as csvfile:\n",
    "    writer = csv.writer(csvfile)\n",
    "    writer.writerow(['neg', 'neu', 'pos', 'compound', 'sentence'])\n",
    "    for item in sentences_sentiment:\n",
    "        writer.writerow([item['neg'], item['neu'], item['pos'] , item['compound'], item['sentence']])"
   ]
  },
  {
   "cell_type": "code",
   "execution_count": null,
   "id": "1656e558",
   "metadata": {},
   "outputs": [],
   "source": []
  },
  {
   "cell_type": "code",
   "execution_count": 59,
   "id": "ed6b1f8f",
   "metadata": {},
   "outputs": [],
   "source": []
  },
  {
   "cell_type": "code",
   "execution_count": 60,
   "id": "6d8bb668",
   "metadata": {},
   "outputs": [],
   "source": []
  }
 ],
 "metadata": {
  "extensions": {
   "jupyter_dashboards": {
    "activeView": "grid_default",
    "version": 1,
    "views": {
     "grid_default": {
      "cellMargin": 10,
      "defaultCellHeight": 20,
      "maxColumns": 12,
      "name": "grid",
      "type": "grid"
     },
     "report_default": {
      "name": "report",
      "type": "report"
     }
    }
   }
  },
  "kernelspec": {
   "display_name": "Python 3 (ipykernel)",
   "language": "python",
   "name": "python3"
  },
  "language_info": {
   "codemirror_mode": {
    "name": "ipython",
    "version": 3
   },
   "file_extension": ".py",
   "mimetype": "text/x-python",
   "name": "python",
   "nbconvert_exporter": "python",
   "pygments_lexer": "ipython3",
   "version": "3.10.4"
  }
 },
 "nbformat": 4,
 "nbformat_minor": 5
}
