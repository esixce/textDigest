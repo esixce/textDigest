{
 "cells": [
  {
   "cell_type": "code",
   "execution_count": 1,
   "id": "b4c5e3b4",
   "metadata": {
    "extensions": {
     "jupyter_dashboards": {
      "version": 1,
      "views": {
       "grid_default": {},
       "report_default": {
        "hidden": true
       }
      }
     }
    }
   },
   "outputs": [],
   "source": [
    "import nltk\n",
    "import os\n",
    "import csv\n",
    "import string\n",
    "import json\n",
    "\n",
    "import matplotlib.pyplot as plt\n",
    "\n",
    "from nltk.tokenize import word_tokenize\n",
    "from nltk.corpus import stopwords\n",
    "from nltk.stem import PorterStemmer\n",
    "from nltk import FreqDist\n",
    "from nltk.sentiment import SentimentIntensityAnalyzer\n",
    "\n",
    "# import ssl\n",
    "# ssl._create_default_https_context = ssl._create_unverified_context"
   ]
  },
  {
   "cell_type": "code",
   "execution_count": 2,
   "id": "ebdfd637",
   "metadata": {
    "extensions": {
     "jupyter_dashboards": {
      "version": 1,
      "views": {
       "grid_default": {},
       "report_default": {
        "hidden": true
       }
      }
     }
    }
   },
   "outputs": [],
   "source": [
    "# Open the file and read its contents\n",
    "with open('input/chatgpt.txt', 'r') as file:\n",
    "    text = file.read()\n",
    "    \n",
    "# os.path.join(os.getcwd(), '..', 'input/chatgpt.txt')"
   ]
  },
  {
   "cell_type": "code",
   "execution_count": 3,
   "id": "5a808a95",
   "metadata": {},
   "outputs": [],
   "source": [
    "tokens = word_tokenize(text)"
   ]
  },
  {
   "cell_type": "code",
   "execution_count": 4,
   "id": "27626261",
   "metadata": {},
   "outputs": [],
   "source": [
    "sia = SentimentIntensityAnalyzer()\n",
    "overall_sentiment = sia.polarity_scores(text)"
   ]
  },
  {
   "cell_type": "code",
   "execution_count": 5,
   "id": "042d2102",
   "metadata": {},
   "outputs": [],
   "source": [
    "sentences = nltk.sent_tokenize(text)\n",
    "sentences_sentiment = []\n",
    "for sentence in sentences:\n",
    "    sentiment_scores = sia.polarity_scores(sentence)\n",
    "    sentiment_scores['sentence'] = sentence\n",
    "    sentences_sentiment.append(sentiment_scores)"
   ]
  },
  {
   "cell_type": "code",
   "execution_count": 6,
   "id": "5789ac30",
   "metadata": {},
   "outputs": [],
   "source": [
    "stopwords = set(stopwords.words('english'))\n",
    "stemmer = PorterStemmer()"
   ]
  },
  {
   "cell_type": "code",
   "execution_count": 7,
   "id": "53fd3290",
   "metadata": {},
   "outputs": [],
   "source": [
    "def find_index(searchToken, structure):\n",
    "    for item in structure:\n",
    "        if searchToken == structure[item]['token']:\n",
    "            return item\n",
    "    print('ERROR!' + ' searchToken: ' + searchToken)\n",
    "    return -1"
   ]
  },
  {
   "cell_type": "code",
   "execution_count": 8,
   "id": "f58c122b",
   "metadata": {},
   "outputs": [],
   "source": [
    "def find_tag(searchToken, structure):\n",
    "    tag = ''\n",
    "    for token in structure:\n",
    "        if searchToken == token[0]:\n",
    "            return token[1]\n",
    "    return 'error'"
   ]
  },
  {
   "cell_type": "code",
   "execution_count": 29,
   "id": "6853912f",
   "metadata": {},
   "outputs": [
    {
     "name": "stdout",
     "output_type": "stream",
     "text": [
      "{1190: {'token': 'user', 'count': 1, 'tag': 'NN', 'frequency': 0.000683526999316473, 'sentiment': {'neg': 0.0, 'neu': 1.0, 'pos': 0.0, 'compound': 0.0}}, 831: {'token': 'fractioned', 'count': 2, 'tag': 'VBN', 'frequency': 0.001367053998632946, 'sentiment': {'neg': 0.0, 'neu': 1.0, 'pos': 0.0, 'compound': 0.0}}, 266: {'token': 'advisable', 'count': 1, 'tag': 'JJ', 'frequency': 0.000683526999316473, 'sentiment': {'neg': 0.0, 'neu': 1.0, 'pos': 0.0, 'compound': 0.0}}, 871: {'token': 'ledger', 'count': 1, 'tag': 'NN', 'frequency': 0.000683526999316473, 'sentiment': {'neg': 0.0, 'neu': 1.0, 'pos': 0.0, 'compound': 0.0}}, 702: {'token': 'specialize', 'count': 1, 'tag': 'VBP', 'frequency': 0.000683526999316473, 'sentiment': {'neg': 0.0, 'neu': 1.0, 'pos': 0.0, 'compound': 0.0}}, 25: {'token': 'energy', 'count': 9, 'tag': 'NN', 'frequency': 0.006151742993848257, 'sentiment': {'neg': 0.0, 'neu': 0.0, 'pos': 1.0, 'compound': 0.2732}}, 853: {'token': 'its', 'count': 2, 'tag': 'PRP$', 'frequency': 0.001367053998632946, 'sentiment': {'neg': 0.0, 'neu': 1.0, 'pos': 0.0, 'compound': 0.0}}, 1383: {'token': 'disregarded', 'count': 1, 'tag': 'VBN', 'frequency': 0.000683526999316473, 'sentiment': {'neg': 1.0, 'neu': 0.0, 'pos': 0.0, 'compound': -0.3818}}, 317: {'token': 'low-impedance', 'count': 1, 'tag': 'JJ', 'frequency': 0.000683526999316473, 'sentiment': {'neg': 0.0, 'neu': 1.0, 'pos': 0.0, 'compound': 0.0}}, 593: {'token': 'capacitors', 'count': 2, 'tag': 'NNS', 'frequency': 0.001367053998632946, 'sentiment': {'neg': 0.0, 'neu': 1.0, 'pos': 0.0, 'compound': 0.0}}, 629: {'token': 'levels', 'count': 1, 'tag': 'NNS', 'frequency': 0.000683526999316473, 'sentiment': {'neg': 0.0, 'neu': 1.0, 'pos': 0.0, 'compound': 0.0}}, 790: {'token': 'reputable', 'count': 1, 'tag': 'JJ', 'frequency': 0.000683526999316473, 'sentiment': {'neg': 0.0, 'neu': 1.0, 'pos': 0.0, 'compound': 0.0}}, 288: {'token': 'path', 'count': 4, 'tag': 'NN', 'frequency': 0.002734107997265892, 'sentiment': {'neg': 0.0, 'neu': 1.0, 'pos': 0.0, 'compound': 0.0}}, 950: {'token': 'period', 'count': 2, 'tag': 'NN', 'frequency': 0.001367053998632946, 'sentiment': {'neg': 0.0, 'neu': 1.0, 'pos': 0.0, 'compound': 0.0}}, 19: {'token': 'a', 'count': 50, 'tag': 'DT', 'frequency': 0.03417634996582365, 'sentiment': {'neg': 0.0, 'neu': 0.0, 'pos': 0.0, 'compound': 0.0}}, 709: {'token': 'companies', 'count': 2, 'tag': 'NNS', 'frequency': 0.001367053998632946, 'sentiment': {'neg': 0.0, 'neu': 1.0, 'pos': 0.0, 'compound': 0.0}}, 1186: {'token': 'markets', 'count': 1, 'tag': 'NNS', 'frequency': 0.000683526999316473, 'sentiment': {'neg': 0.0, 'neu': 1.0, 'pos': 0.0, 'compound': 0.0}}, 707: {'token': 'some', 'count': 3, 'tag': 'DT', 'frequency': 0.002050580997949419, 'sentiment': {'neg': 0.0, 'neu': 1.0, 'pos': 0.0, 'compound': 0.0}}, 135: {'token': 'method', 'count': 2, 'tag': 'NN', 'frequency': 0.001367053998632946, 'sentiment': {'neg': 0.0, 'neu': 1.0, 'pos': 0.0, 'compound': 0.0}}, 148: {'token': 'capture', 'count': 7, 'tag': 'VB', 'frequency': 0.004784688995215311, 'sentiment': {'neg': 0.0, 'neu': 1.0, 'pos': 0.0, 'compound': 0.0}}, 722: {'token': 'leading', 'count': 1, 'tag': 'JJ', 'frequency': 0.000683526999316473, 'sentiment': {'neg': 0.0, 'neu': 1.0, 'pos': 0.0, 'compound': 0.0}}, 814: {'token': 'your', 'count': 2, 'tag': 'PRP$', 'frequency': 0.001367053998632946, 'sentiment': {'neg': 0.0, 'neu': 1.0, 'pos': 0.0, 'compound': 0.0}}, 1183: {'token': 'cryptocurrencies', 'count': 2, 'tag': 'NNS', 'frequency': 0.001367053998632946, 'sentiment': {'neg': 0.0, 'neu': 1.0, 'pos': 0.0, 'compound': 0.0}}, 224: {'token': 'research', 'count': 1, 'tag': 'NN', 'frequency': 0.000683526999316473, 'sentiment': {'neg': 0.0, 'neu': 1.0, 'pos': 0.0, 'compound': 0.0}}, 412: {'token': 'safety', 'count': 4, 'tag': 'NN', 'frequency': 0.002734107997265892, 'sentiment': {'neg': 0.0, 'neu': 0.0, 'pos': 1.0, 'compound': 0.4215}}, 1061: {'token': 'chains', 'count': 3, 'tag': 'NNS', 'frequency': 0.002050580997949419, 'sentiment': {'neg': 0.0, 'neu': 1.0, 'pos': 0.0, 'compound': 0.0}}, 79: {'token': 'however', 'count': 5, 'tag': 'RB', 'frequency': 0.003417634996582365, 'sentiment': {'neg': 0.0, 'neu': 1.0, 'pos': 0.0, 'compound': 0.0}}, 162: {'token': 'tall', 'count': 1, 'tag': 'JJ', 'frequency': 0.000683526999316473, 'sentiment': {'neg': 0.0, 'neu': 1.0, 'pos': 0.0, 'compound': 0.0}}, 394: {'token': 'if', 'count': 8, 'tag': 'IN', 'frequency': 0.005468215994531784, 'sentiment': {'neg': 0.0, 'neu': 1.0, 'pos': 0.0, 'compound': 0.0}}, 670: {'token': 'place', 'count': 2, 'tag': 'NN', 'frequency': 0.001367053998632946, 'sentiment': {'neg': 0.0, 'neu': 1.0, 'pos': 0.0, 'compound': 0.0}}, 1423: {'token': 'automatically', 'count': 1, 'tag': 'RB', 'frequency': 0.000683526999316473, 'sentiment': {'neg': 0.0, 'neu': 1.0, 'pos': 0.0, 'compound': 0.0}}, 277: {'token': 'extremely', 'count': 2, 'tag': 'RB', 'frequency': 0.001367053998632946, 'sentiment': {'neg': 0.0, 'neu': 1.0, 'pos': 0.0, 'compound': 0.0}}, 835: {'token': 'apart', 'count': 1, 'tag': 'RB', 'frequency': 0.000683526999316473, 'sentiment': {'neg': 0.0, 'neu': 1.0, 'pos': 0.0, 'compound': 0.0}}, 1266: {'token': 'developers', 'count': 1, 'tag': 'NNS', 'frequency': 0.000683526999316473, 'sentiment': {'neg': 0.0, 'neu': 1.0, 'pos': 0.0, 'compound': 0.0}}, 81: {'token': 'are', 'count': 18, 'tag': 'VBP', 'frequency': 0.012303485987696514, 'sentiment': {'neg': 0.0, 'neu': 1.0, 'pos': 0.0, 'compound': 0.0}}, 57: {'token': 'easily', 'count': 1, 'tag': 'RB', 'frequency': 0.000683526999316473, 'sentiment': {'neg': 0.0, 'neu': 0.0, 'pos': 1.0, 'compound': 0.34}}, 324: {'token': 'but', 'count': 1, 'tag': 'CC', 'frequency': 0.000683526999316473, 'sentiment': {'neg': 0.0, 'neu': 1.0, 'pos': 0.0, 'compound': 0.0}}, 0: {'token': 'when', 'count': 6, 'tag': 'WRB', 'frequency': 0.004101161995898838, 'sentiment': {'neg': 0.0, 'neu': 1.0, 'pos': 0.0, 'compound': 0.0}}, 403: {'token': 'near', 'count': 1, 'tag': 'IN', 'frequency': 0.000683526999316473, 'sentiment': {'neg': 0.0, 'neu': 1.0, 'pos': 0.0, 'compound': 0.0}}, 38: {'token': 'due', 'count': 1, 'tag': 'JJ', 'frequency': 0.000683526999316473, 'sentiment': {'neg': 0.0, 'neu': 1.0, 'pos': 0.0, 'compound': 0.0}}, 934: {'token': 'transactions', 'count': 6, 'tag': 'NNS', 'frequency': 0.004101161995898838, 'sentiment': {'neg': 0.0, 'neu': 1.0, 'pos': 0.0, 'compound': 0.0}}, 155: {'token': 'air', 'count': 2, 'tag': 'NN', 'frequency': 0.001367053998632946, 'sentiment': {'neg': 0.0, 'neu': 1.0, 'pos': 0.0, 'compound': 0.0}}, 437: {'token': 'inside', 'count': 1, 'tag': 'IN', 'frequency': 0.000683526999316473, 'sentiment': {'neg': 0.0, 'neu': 1.0, 'pos': 0.0, 'compound': 0.0}}, 847: {'token': 'potentially', 'count': 3, 'tag': 'RB', 'frequency': 0.002050580997949419, 'sentiment': {'neg': 0.0, 'neu': 1.0, 'pos': 0.0, 'compound': 0.0}}, 226: {'token': 'ongoing', 'count': 1, 'tag': 'VBG', 'frequency': 0.000683526999316473, 'sentiment': {'neg': 0.0, 'neu': 1.0, 'pos': 0.0, 'compound': 0.0}}, 106: {'token': 'materials', 'count': 2, 'tag': 'NNS', 'frequency': 0.001367053998632946, 'sentiment': {'neg': 0.0, 'neu': 1.0, 'pos': 0.0, 'compound': 0.0}}, 1194: {'token': 'happened', 'count': 1, 'tag': 'VBN', 'frequency': 0.000683526999316473, 'sentiment': {'neg': 0.0, 'neu': 1.0, 'pos': 0.0, 'compound': 0.0}}, 910: {'token': 'resilient', 'count': 2, 'tag': 'JJ', 'frequency': 0.001367053998632946, 'sentiment': {'neg': 0.0, 'neu': 1.0, 'pos': 0.0, 'compound': 0.0}}, 259: {'token': 'strike', 'count': 8, 'tag': 'VB', 'frequency': 0.005468215994531784, 'sentiment': {'neg': 1.0, 'neu': 0.0, 'pos': 0.0, 'compound': -0.128}}, 1125: {'token': 'want', 'count': 2, 'tag': 'VBP', 'frequency': 0.001367053998632946, 'sentiment': {'neg': 0.0, 'neu': 0.0, 'pos': 1.0, 'compound': 0.0772}}, 309: {'token': 'recommended', 'count': 1, 'tag': 'JJ', 'frequency': 0.000683526999316473, 'sentiment': {'neg': 0.0, 'neu': 0.0, 'pos': 1.0, 'compound': 0.2023}}, 989: {'token': 'networks', 'count': 1, 'tag': 'NNS', 'frequency': 0.000683526999316473, 'sentiment': {'neg': 0.0, 'neu': 1.0, 'pos': 0.0, 'compound': 0.0}}, 1073: {'token': 'mean', 'count': 1, 'tag': 'VB', 'frequency': 0.000683526999316473, 'sentiment': {'neg': 0.0, 'neu': 1.0, 'pos': 0.0, 'compound': 0.0}}, 1105: {'token': 'scenario', 'count': 1, 'tag': 'NN', 'frequency': 0.000683526999316473, 'sentiment': {'neg': 0.0, 'neu': 1.0, 'pos': 0.0, 'compound': 0.0}}, 1267: {'token': 'work', 'count': 2, 'tag': 'VBP', 'frequency': 0.001367053998632946, 'sentiment': {'neg': 0.0, 'neu': 1.0, 'pos': 0.0, 'compound': 0.0}}, 114: {'token': 'de', 'count': 1, 'tag': 'IN', 'frequency': 0.000683526999316473, 'sentiment': {'neg': 0.0, 'neu': 1.0, 'pos': 0.0, 'compound': 0.0}}, 1274: {'token': 'stability', 'count': 1, 'tag': 'NN', 'frequency': 0.000683526999316473, 'sentiment': {'neg': 0.0, 'neu': 1.0, 'pos': 0.0, 'compound': 0.0}}, 1173: {'token': 'extended', 'count': 1, 'tag': 'JJ', 'frequency': 0.000683526999316473, 'sentiment': {'neg': 0.0, 'neu': 1.0, 'pos': 0.0, 'compound': 0.0}}, 107: {'token': 'one', 'count': 4, 'tag': 'CD', 'frequency': 0.002734107997265892, 'sentiment': {'neg': 0.0, 'neu': 1.0, 'pos': 0.0, 'compound': 0.0}}, 1308: {'token': 'same', 'count': 2, 'tag': 'JJ', 'frequency': 0.001367053998632946, 'sentiment': {'neg': 0.0, 'neu': 1.0, 'pos': 0.0, 'compound': 0.0}}, 843: {'token': 'significantly', 'count': 2, 'tag': 'RB', 'frequency': 0.001367053998632946, 'sentiment': {'neg': 0.0, 'neu': 1.0, 'pos': 0.0, 'compound': 0.0}}, 903: {'token': 'noting', 'count': 2, 'tag': 'VBG', 'frequency': 0.001367053998632946, 'sentiment': {'neg': 0.0, 'neu': 1.0, 'pos': 0.0, 'compound': 0.0}}, 1360: {'token': 'accepted', 'count': 1, 'tag': 'VBN', 'frequency': 0.000683526999316473, 'sentiment': {'neg': 0.0, 'neu': 0.0, 'pos': 1.0, 'compound': 0.2732}}, 1295: {'token': 'wrong', 'count': 1, 'tag': 'VBP', 'frequency': 0.000683526999316473, 'sentiment': {'neg': 1.0, 'neu': 0.0, 'pos': 0.0, 'compound': -0.4767}}, 426: {'token': 'property', 'count': 1, 'tag': 'NN', 'frequency': 0.000683526999316473, 'sentiment': {'neg': 0.0, 'neu': 1.0, 'pos': 0.0, 'compound': 0.0}}, 292: {'token': 'various', 'count': 1, 'tag': 'JJ', 'frequency': 0.000683526999316473, 'sentiment': {'neg': 0.0, 'neu': 1.0, 'pos': 0.0, 'compound': 0.0}}, 6: {'token': 'electromagnetic', 'count': 2, 'tag': 'JJ', 'frequency': 0.001367053998632946, 'sentiment': {'neg': 0.0, 'neu': 1.0, 'pos': 0.0, 'compound': 0.0}}, 812: {'token': 'installer', 'count': 1, 'tag': 'VB', 'frequency': 0.000683526999316473, 'sentiment': {'neg': 0.0, 'neu': 1.0, 'pos': 0.0, 'compound': 0.0}}, 1127: {'token': 'support', 'count': 1, 'tag': 'VB', 'frequency': 0.000683526999316473, 'sentiment': {'neg': 0.0, 'neu': 0.0, 'pos': 1.0, 'compound': 0.4019}}, 866: {'token': 'miners', 'count': 4, 'tag': 'NNS', 'frequency': 0.002734107997265892, 'sentiment': {'neg': 0.0, 'neu': 1.0, 'pos': 0.0, 'compound': 0.0}}, 1198: {'token': 'case', 'count': 2, 'tag': 'NN', 'frequency': 0.001367053998632946, 'sentiment': {'neg': 0.0, 'neu': 1.0, 'pos': 0.0, 'compound': 0.0}}, 385: {'token': 'create', 'count': 1, 'tag': 'VB', 'frequency': 0.000683526999316473, 'sentiment': {'neg': 0.0, 'neu': 0.0, 'pos': 1.0, 'compound': 0.2732}}, 1182: {'token': 'distinct', 'count': 1, 'tag': 'JJ', 'frequency': 0.000683526999316473, 'sentiment': {'neg': 0.0, 'neu': 1.0, 'pos': 0.0, 'compound': 0.0}}, 198: {'token': 'they', 'count': 7, 'tag': 'PRP', 'frequency': 0.004784688995215311, 'sentiment': {'neg': 0.0, 'neu': 1.0, 'pos': 0.0, 'compound': 0.0}}, 1281: {'token': 'think', 'count': 1, 'tag': 'VBP', 'frequency': 0.000683526999316473, 'sentiment': {'neg': 0.0, 'neu': 1.0, 'pos': 0.0, 'compound': 0.0}}, 101: {'token': 'by', 'count': 8, 'tag': 'IN', 'frequency': 0.005468215994531784, 'sentiment': {'neg': 0.0, 'neu': 1.0, 'pos': 0.0, 'compound': 0.0}}, 880: {'token': 'cut', 'count': 1, 'tag': 'VBN', 'frequency': 0.000683526999316473, 'sentiment': {'neg': 1.0, 'neu': 0.0, 'pos': 0.0, 'compound': -0.2732}}, 1130: {'token': 'set', 'count': 1, 'tag': 'NN', 'frequency': 0.000683526999316473, 'sentiment': {'neg': 0.0, 'neu': 1.0, 'pos': 0.0, 'compound': 0.0}}, 1195: {'token': 'before', 'count': 1, 'tag': 'IN', 'frequency': 0.000683526999316473, 'sentiment': {'neg': 0.0, 'neu': 1.0, 'pos': 0.0, 'compound': 0.0}}, 961: {'token': 'including', 'count': 1, 'tag': 'VBG', 'frequency': 0.000683526999316473, 'sentiment': {'neg': 0.0, 'neu': 1.0, 'pos': 0.0, 'compound': 0.0}}, 335: {'token': 'fact', 'count': 1, 'tag': 'NN', 'frequency': 0.000683526999316473, 'sentiment': {'neg': 0.0, 'neu': 1.0, 'pos': 0.0, 'compound': 0.0}}, 676: {'token': 'without', 'count': 1, 'tag': 'IN', 'frequency': 0.000683526999316473, 'sentiment': {'neg': 0.0, 'neu': 1.0, 'pos': 0.0, 'compound': 0.0}}, 50: {'token': 'electricity', 'count': 13, 'tag': 'NN', 'frequency': 0.00888585099111415, 'sentiment': {'neg': 0.0, 'neu': 1.0, 'pos': 0.0, 'compound': 0.0}}, 103: {'token': 'friction', 'count': 1, 'tag': 'NN', 'frequency': 0.000683526999316473, 'sentiment': {'neg': 0.0, 'neu': 1.0, 'pos': 0.0, 'compound': 0.0}}, 1444: {'token': 'occurred', 'count': 1, 'tag': 'VBD', 'frequency': 0.000683526999316473, 'sentiment': {'neg': 0.0, 'neu': 1.0, 'pos': 0.0, 'compound': 0.0}}, 549: {'token': 'protect', 'count': 1, 'tag': 'VB', 'frequency': 0.000683526999316473, 'sentiment': {'neg': 0.0, 'neu': 0.0, 'pos': 1.0, 'compound': 0.3818}}, 1153: {'token': 'supporting', 'count': 2, 'tag': 'VBG', 'frequency': 0.001367053998632946, 'sentiment': {'neg': 0.0, 'neu': 0.0, 'pos': 1.0, 'compound': 0.4404}}, 213: {'token': 'power', 'count': 2, 'tag': 'NN', 'frequency': 0.001367053998632946, 'sentiment': {'neg': 0.0, 'neu': 1.0, 'pos': 0.0, 'compound': 0.0}}, 543: {'token': 'arresters', 'count': 5, 'tag': 'NNS', 'frequency': 0.003417634996582365, 'sentiment': {'neg': 0.0, 'neu': 1.0, 'pos': 0.0, 'compound': 0.0}}, 1204: {'token': 'ethereum', 'count': 2, 'tag': 'NN', 'frequency': 0.001367053998632946, 'sentiment': {'neg': 0.0, 'neu': 1.0, 'pos': 0.0, 'compound': 0.0}}, 344: {'token': 'rods', 'count': 1, 'tag': 'NNS', 'frequency': 0.000683526999316473, 'sentiment': {'neg': 0.0, 'neu': 1.0, 'pos': 0.0, 'compound': 0.0}}, 1354: {'token': 'then', 'count': 1, 'tag': 'RB', 'frequency': 0.000683526999316473, 'sentiment': {'neg': 0.0, 'neu': 1.0, 'pos': 0.0, 'compound': 0.0}}, 1316: {'token': 'drop', 'count': 1, 'tag': 'VB', 'frequency': 0.000683526999316473, 'sentiment': {'neg': 1.0, 'neu': 0.0, 'pos': 0.0, 'compound': -0.2732}}, 1034: {'token': 'different', 'count': 6, 'tag': 'JJ', 'frequency': 0.004101161995898838, 'sentiment': {'neg': 0.0, 'neu': 1.0, 'pos': 0.0, 'compound': 0.0}}, 49: {'token': 'static', 'count': 3, 'tag': 'JJ', 'frequency': 0.002050580997949419, 'sentiment': {'neg': 0.0, 'neu': 1.0, 'pos': 0.0, 'compound': 0.0}}, 18: {'token': 'build', 'count': 2, 'tag': 'VB', 'frequency': 0.001367053998632946, 'sentiment': {'neg': 0.0, 'neu': 1.0, 'pos': 0.0, 'compound': 0.0}}, 1292: {'token': 'accept', 'count': 1, 'tag': 'VB', 'frequency': 0.000683526999316473, 'sentiment': {'neg': 0.0, 'neu': 0.0, 'pos': 1.0, 'compound': 0.3818}}, 22: {'token': 'of', 'count': 45, 'tag': 'IN', 'frequency': 0.030758714969241284, 'sentiment': {'neg': 0.0, 'neu': 1.0, 'pos': 0.0, 'compound': 0.0}}, 51: {'token': 'in', 'count': 28, 'tag': 'IN', 'frequency': 0.019138755980861243, 'sentiment': {'neg': 0.0, 'neu': 1.0, 'pos': 0.0, 'compound': 0.0}}, 30: {'token': 'while', 'count': 4, 'tag': 'IN', 'frequency': 0.002734107997265892, 'sentiment': {'neg': 0.0, 'neu': 1.0, 'pos': 0.0, 'compound': 0.0}}, 116: {'token': 'generator', 'count': 1, 'tag': 'NN', 'frequency': 0.000683526999316473, 'sentiment': {'neg': 0.0, 'neu': 1.0, 'pos': 0.0, 'compound': 0.0}}, 1338: {'token': 'previous', 'count': 1, 'tag': 'JJ', 'frequency': 0.000683526999316473, 'sentiment': {'neg': 0.0, 'neu': 1.0, 'pos': 0.0, 'compound': 0.0}}, 231: {'token': 'new', 'count': 1, 'tag': 'JJ', 'frequency': 0.000683526999316473, 'sentiment': {'neg': 0.0, 'neu': 1.0, 'pos': 0.0, 'compound': 0.0}}, 940: {'token': 'able', 'count': 2, 'tag': 'JJ', 'frequency': 0.001367053998632946, 'sentiment': {'neg': 0.0, 'neu': 1.0, 'pos': 0.0, 'compound': 0.0}}, 37: {'token': 'occurs', 'count': 2, 'tag': 'VBZ', 'frequency': 0.001367053998632946, 'sentiment': {'neg': 0.0, 'neu': 1.0, 'pos': 0.0, 'compound': 0.0}}, 792: {'token': 'experienced', 'count': 1, 'tag': 'JJ', 'frequency': 0.000683526999316473, 'sentiment': {'neg': 0.0, 'neu': 1.0, 'pos': 0.0, 'compound': 0.0}}, 1246: {'token': 'most', 'count': 1, 'tag': 'JJS', 'frequency': 0.000683526999316473, 'sentiment': {'neg': 0.0, 'neu': 1.0, 'pos': 0.0, 'compound': 0.0}}, 1319: {'token': 'chain', 'count': 7, 'tag': 'NN', 'frequency': 0.004784688995215311, 'sentiment': {'neg': 0.0, 'neu': 1.0, 'pos': 0.0, 'compound': 0.0}}, 945: {'token': 'broader', 'count': 2, 'tag': 'JJR', 'frequency': 0.001367053998632946, 'sentiment': {'neg': 0.0, 'neu': 1.0, 'pos': 0.0, 'compound': 0.0}}, 633: {'token': 'short', 'count': 2, 'tag': 'JJ', 'frequency': 0.001367053998632946, 'sentiment': {'neg': 0.0, 'neu': 1.0, 'pos': 0.0, 'compound': 0.0}}, 1160: {'token': 'others', 'count': 1, 'tag': 'NNS', 'frequency': 0.000683526999316473, 'sentiment': {'neg': 0.0, 'neu': 1.0, 'pos': 0.0, 'compound': 0.0}}, 294: {'token': 'attempting', 'count': 3, 'tag': 'VBG', 'frequency': 0.002050580997949419, 'sentiment': {'neg': 0.0, 'neu': 1.0, 'pos': 0.0, 'compound': 0.0}}, 80: {'token': 'there', 'count': 3, 'tag': 'EX', 'frequency': 0.002050580997949419, 'sentiment': {'neg': 0.0, 'neu': 1.0, 'pos': 0.0, 'compound': 0.0}}, 743: {'token': 'lpi', 'count': 1, 'tag': 'VBZ', 'frequency': 0.000683526999316473, 'sentiment': {'neg': 0.0, 'neu': 1.0, 'pos': 0.0, 'compound': 0.0}}, 471: {'token': 'system', 'count': 3, 'tag': 'NN', 'frequency': 0.002050580997949419, 'sentiment': {'neg': 0.0, 'neu': 1.0, 'pos': 0.0, 'compound': 0.0}}, 1215: {'token': 'following', 'count': 1, 'tag': 'VBG', 'frequency': 0.000683526999316473, 'sentiment': {'neg': 0.0, 'neu': 1.0, 'pos': 0.0, 'compound': 0.0}}, 1030: {'token': 'happen', 'count': 1, 'tag': 'VB', 'frequency': 0.000683526999316473, 'sentiment': {'neg': 0.0, 'neu': 1.0, 'pos': 0.0, 'compound': 0.0}}, 661: {'token': 'professionals', 'count': 1, 'tag': 'NNS', 'frequency': 0.000683526999316473, 'sentiment': {'neg': 0.0, 'neu': 1.0, 'pos': 0.0, 'compound': 0.0}}, 1460: {'token': 'clarification', 'count': 1, 'tag': 'NN', 'frequency': 0.000683526999316473, 'sentiment': {'neg': 0.0, 'neu': 1.0, 'pos': 0.0, 'compound': 0.0}}, 1223: {'token': 'hack', 'count': 1, 'tag': 'NN', 'frequency': 0.000683526999316473, 'sentiment': {'neg': 0.0, 'neu': 1.0, 'pos': 0.0, 'compound': 0.0}}, 4: {'token': 'is', 'count': 26, 'tag': 'VBZ', 'frequency': 0.0177717019822283, 'sentiment': {'neg': 0.0, 'neu': 1.0, 'pos': 0.0, 'compound': 0.0}}, 664: {'token': 'necessary', 'count': 1, 'tag': 'JJ', 'frequency': 0.000683526999316473, 'sentiment': {'neg': 0.0, 'neu': 1.0, 'pos': 0.0, 'compound': 0.0}}, 1187: {'token': 'exchange', 'count': 1, 'tag': 'VBP', 'frequency': 0.000683526999316473, 'sentiment': {'neg': 0.0, 'neu': 1.0, 'pos': 0.0, 'compound': 0.0}}, 820: {'token': 'customized', 'count': 1, 'tag': 'JJ', 'frequency': 0.000683526999316473, 'sentiment': {'neg': 0.0, 'neu': 1.0, 'pos': 0.0, 'compound': 0.0}}, 388: {'token': 'risk', 'count': 1, 'tag': 'NN', 'frequency': 0.000683526999316473, 'sentiment': {'neg': 1.0, 'neu': 0.0, 'pos': 0.0, 'compound': -0.2732}}, 1448: {'token': 'thank', 'count': 1, 'tag': 'VBD', 'frequency': 0.000683526999316473, 'sentiment': {'neg': 0.0, 'neu': 0.0, 'pos': 1.0, 'compound': 0.3612}}, 24: {'token': 'magnetic', 'count': 1, 'tag': 'JJ', 'frequency': 0.000683526999316473, 'sentiment': {'neg': 0.0, 'neu': 1.0, 'pos': 0.0, 'compound': 0.0}}, 83: {'token': 'ways', 'count': 1, 'tag': 'NNS', 'frequency': 0.000683526999316473, 'sentiment': {'neg': 0.0, 'neu': 1.0, 'pos': 0.0, 'compound': 0.0}}, 1002: {'token': 'challenges', 'count': 1, 'tag': 'NNS', 'frequency': 0.000683526999316473, 'sentiment': {'neg': 0.0, 'neu': 0.0, 'pos': 1.0, 'compound': 0.0772}}, 1234: {'token': 'forking', 'count': 1, 'tag': 'VBG', 'frequency': 0.000683526999316473, 'sentiment': {'neg': 0.0, 'neu': 1.0, 'pos': 0.0, 'compound': 0.0}}, 1337: {'token': 'my', 'count': 2, 'tag': 'PRP$', 'frequency': 0.001367053998632946, 'sentiment': {'neg': 0.0, 'neu': 1.0, 'pos': 0.0, 'compound': 0.0}}, 1306: {'token': 'remain', 'count': 2, 'tag': 'VBP', 'frequency': 0.001367053998632946, 'sentiment': {'neg': 0.0, 'neu': 1.0, 'pos': 0.0, 'compound': 0.0}}, 12: {'token': 'sky', 'count': 1, 'tag': 'NN', 'frequency': 0.000683526999316473, 'sentiment': {'neg': 0.0, 'neu': 1.0, 'pos': 0.0, 'compound': 0.0}}, 1101: {'token': 'confirmed', 'count': 1, 'tag': 'VBN', 'frequency': 0.000683526999316473, 'sentiment': {'neg': 0.0, 'neu': 1.0, 'pos': 0.0, 'compound': 0.0}}, 1303: {'token': 'because', 'count': 1, 'tag': 'IN', 'frequency': 0.000683526999316473, 'sentiment': {'neg': 0.0, 'neu': 1.0, 'pos': 0.0, 'compound': 0.0}}, 824: {'token': 'building', 'count': 1, 'tag': 'NN', 'frequency': 0.000683526999316473, 'sentiment': {'neg': 0.0, 'neu': 1.0, 'pos': 0.0, 'compound': 0.0}}, 660: {'token': 'trained', 'count': 1, 'tag': 'JJ', 'frequency': 0.000683526999316473, 'sentiment': {'neg': 0.0, 'neu': 1.0, 'pos': 0.0, 'compound': 0.0}}, 94: {'token': 'use', 'count': 6, 'tag': 'NN', 'frequency': 0.004101161995898838, 'sentiment': {'neg': 0.0, 'neu': 1.0, 'pos': 0.0, 'compound': 0.0}}, 7: {'token': 'discharge', 'count': 3, 'tag': 'NN', 'frequency': 0.002050580997949419, 'sentiment': {'neg': 0.0, 'neu': 1.0, 'pos': 0.0, 'compound': 0.0}}, 301: {'token': 'specific', 'count': 3, 'tag': 'JJ', 'frequency': 0.002050580997949419, 'sentiment': {'neg': 0.0, 'neu': 1.0, 'pos': 0.0, 'compound': 0.0}}, 920: {'token': 'handle', 'count': 2, 'tag': 'VB', 'frequency': 0.001367053998632946, 'sentiment': {'neg': 0.0, 'neu': 1.0, 'pos': 0.0, 'compound': 0.0}}, 256: {'token': 'cause', 'count': 1, 'tag': 'NN', 'frequency': 0.000683526999316473, 'sentiment': {'neg': 0.0, 'neu': 1.0, 'pos': 0.0, 'compound': 0.0}}, 255: {'token': 'mechanism', 'count': 2, 'tag': 'NN', 'frequency': 0.001367053998632946, 'sentiment': {'neg': 0.0, 'neu': 1.0, 'pos': 0.0, 'compound': 0.0}}, 183: {'token': 'channel', 'count': 1, 'tag': 'VB', 'frequency': 0.000683526999316473, 'sentiment': {'neg': 0.0, 'neu': 1.0, 'pos': 0.0, 'compound': 0.0}}, 626: {'token': 'that', 'count': 12, 'tag': 'WDT', 'frequency': 0.008202323991797676, 'sentiment': {'neg': 0.0, 'neu': 1.0, 'pos': 0.0, 'compound': 0.0}}, 56: {'token': 'not', 'count': 10, 'tag': 'RB', 'frequency': 0.00683526999316473, 'sentiment': {'neg': 0.0, 'neu': 1.0, 'pos': 0.0, 'compound': 0.0}}, 1318: {'token': 'shorter', 'count': 4, 'tag': 'NN', 'frequency': 0.002734107997265892, 'sentiment': {'neg': 0.0, 'neu': 1.0, 'pos': 0.0, 'compound': 0.0}}, 665: {'token': 'expertise', 'count': 1, 'tag': 'NN', 'frequency': 0.000683526999316473, 'sentiment': {'neg': 0.0, 'neu': 1.0, 'pos': 0.0, 'compound': 0.0}}, 400: {'token': 'populated', 'count': 1, 'tag': 'JJ', 'frequency': 0.000683526999316473, 'sentiment': {'neg': 0.0, 'neu': 1.0, 'pos': 0.0, 'compound': 0.0}}, 829: {'token': 'internet', 'count': 5, 'tag': 'NN', 'frequency': 0.003417634996582365, 'sentiment': {'neg': 0.0, 'neu': 1.0, 'pos': 0.0, 'compound': 0.0}}, 46: {'token': 'and', 'count': 60, 'tag': 'CC', 'frequency': 0.04101161995898838, 'sentiment': {'neg': 0.0, 'neu': 1.0, 'pos': 0.0, 'compound': 0.0}}, 893: {'token': 'communicate', 'count': 2, 'tag': 'VB', 'frequency': 0.001367053998632946, 'sentiment': {'neg': 0.0, 'neu': 1.0, 'pos': 0.0, 'compound': 0.0}}, 88: {'token': 'atmospheric', 'count': 4, 'tag': 'JJ', 'frequency': 0.002734107997265892, 'sentiment': {'neg': 0.0, 'neu': 1.0, 'pos': 0.0, 'compound': 0.0}}, 143: {'token': 'collectors', 'count': 2, 'tag': 'NNS', 'frequency': 0.001367053998632946, 'sentiment': {'neg': 0.0, 'neu': 1.0, 'pos': 0.0, 'compound': 0.0}}, 848: {'token': 'impact', 'count': 2, 'tag': 'VB', 'frequency': 0.001367053998632946, 'sentiment': {'neg': 0.0, 'neu': 1.0, 'pos': 0.0, 'compound': 0.0}}, 990: {'token': 'overall', 'count': 1, 'tag': 'VBP', 'frequency': 0.000683526999316473, 'sentiment': {'neg': 0.0, 'neu': 1.0, 'pos': 0.0, 'compound': 0.0}}, 1147: {'token': 'community', 'count': 2, 'tag': 'NN', 'frequency': 0.001367053998632946, 'sentiment': {'neg': 0.0, 'neu': 1.0, 'pos': 0.0, 'compound': 0.0}}, 967: {'token': 'distributed', 'count': 1, 'tag': 'VBD', 'frequency': 0.000683526999316473, 'sentiment': {'neg': 0.0, 'neu': 1.0, 'pos': 0.0, 'compound': 0.0}}, 115: {'token': 'graaff', 'count': 1, 'tag': 'FW', 'frequency': 0.000683526999316473, 'sentiment': {'neg': 0.0, 'neu': 1.0, 'pos': 0.0, 'compound': 0.0}}, 1037: {'token': 'producing', 'count': 2, 'tag': 'VBG', 'frequency': 0.001367053998632946, 'sentiment': {'neg': 0.0, 'neu': 1.0, 'pos': 0.0, 'compound': 0.0}}, 1064: {'token': 'result', 'count': 2, 'tag': 'VB', 'frequency': 0.001367053998632946, 'sentiment': {'neg': 0.0, 'neu': 1.0, 'pos': 0.0, 'compound': 0.0}}, 840: {'token': 'were', 'count': 5, 'tag': 'VBD', 'frequency': 0.003417634996582365, 'sentiment': {'neg': 0.0, 'neu': 1.0, 'pos': 0.0, 'compound': 0.0}}, 627: {'token': 'require', 'count': 1, 'tag': 'VBP', 'frequency': 0.000683526999316473, 'sentiment': {'neg': 0.0, 'neu': 1.0, 'pos': 0.0, 'compound': 0.0}}, 1269: {'token': 'prevent', 'count': 1, 'tag': 'VB', 'frequency': 0.000683526999316473, 'sentiment': {'neg': 0.0, 'neu': 0.0, 'pos': 1.0, 'compound': 0.0258}}, 156: {'token': 'these', 'count': 5, 'tag': 'DT', 'frequency': 0.003417634996582365, 'sentiment': {'neg': 0.0, 'neu': 1.0, 'pos': 0.0, 'compound': 0.0}}, 311: {'token': 'mechanisms', 'count': 3, 'tag': 'NNS', 'frequency': 0.002050580997949419, 'sentiment': {'neg': 0.0, 'neu': 1.0, 'pos': 0.0, 'compound': 0.0}}, 134: {'token': 'another', 'count': 3, 'tag': 'DT', 'frequency': 0.002050580997949419, 'sentiment': {'neg': 0.0, 'neu': 1.0, 'pos': 0.0, 'compound': 0.0}}, 54: {'token': 'which', 'count': 10, 'tag': 'WDT', 'frequency': 0.00683526999316473, 'sentiment': {'neg': 0.0, 'neu': 1.0, 'pos': 0.0, 'compound': 0.0}}, 1403: {'token': 'their', 'count': 1, 'tag': 'PRP$', 'frequency': 0.000683526999316473, 'sentiment': {'neg': 0.0, 'neu': 1.0, 'pos': 0.0, 'compound': 0.0}}, 624: {'token': 'scientific', 'count': 1, 'tag': 'JJ', 'frequency': 0.000683526999316473, 'sentiment': {'neg': 0.0, 'neu': 1.0, 'pos': 0.0, 'compound': 0.0}}, 173: {'token': 'used', 'count': 3, 'tag': 'VBN', 'frequency': 0.002050580997949419, 'sentiment': {'neg': 0.0, 'neu': 1.0, 'pos': 0.0, 'compound': 0.0}}, 1226: {'token': 'dao', 'count': 1, 'tag': 'NN', 'frequency': 0.000683526999316473, 'sentiment': {'neg': 0.0, 'neu': 1.0, 'pos': 0.0, 'compound': 0.0}}, 983: {'token': 'means', 'count': 1, 'tag': 'NNS', 'frequency': 0.000683526999316473, 'sentiment': {'neg': 0.0, 'neu': 1.0, 'pos': 0.0, 'compound': 0.0}}, 921: {'token': 'temporary', 'count': 1, 'tag': 'JJ', 'frequency': 0.000683526999316473, 'sentiment': {'neg': 0.0, 'neu': 1.0, 'pos': 0.0, 'compound': 0.0}}, 13: {'token': 'could', 'count': 6, 'tag': 'MD', 'frequency': 0.004101161995898838, 'sentiment': {'neg': 0.0, 'neu': 1.0, 'pos': 0.0, 'compound': 0.0}}, 108: {'token': 'example', 'count': 2, 'tag': 'NN', 'frequency': 0.001367053998632946, 'sentiment': {'neg': 0.0, 'neu': 1.0, 'pos': 0.0, 'compound': 0.0}}, 520: {'token': 'requires', 'count': 2, 'tag': 'VBZ', 'frequency': 0.001367053998632946, 'sentiment': {'neg': 0.0, 'neu': 1.0, 'pos': 0.0, 'compound': 0.0}}, 958: {'token': 'layers', 'count': 1, 'tag': 'NNS', 'frequency': 0.000683526999316473, 'sentiment': {'neg': 0.0, 'neu': 1.0, 'pos': 0.0, 'compound': 0.0}}, 899: {'token': 'consensus', 'count': 1, 'tag': 'NN', 'frequency': 0.000683526999316473, 'sentiment': {'neg': 0.0, 'neu': 1.0, 'pos': 0.0, 'compound': 0.0}}, 788: {'token': 'choose', 'count': 1, 'tag': 'VB', 'frequency': 0.000683526999316473, 'sentiment': {'neg': 0.0, 'neu': 1.0, 'pos': 0.0, 'compound': 0.0}}, 390: {'token': 'damage', 'count': 1, 'tag': 'NN', 'frequency': 0.000683526999316473, 'sentiment': {'neg': 1.0, 'neu': 0.0, 'pos': 0.0, 'compound': -0.4939}}, 146: {'token': 'designed', 'count': 8, 'tag': 'VBN', 'frequency': 0.005468215994531784, 'sentiment': {'neg': 0.0, 'neu': 1.0, 'pos': 0.0, 'compound': 0.0}}, 608: {'token': 'later', 'count': 1, 'tag': 'JJR', 'frequency': 0.000683526999316473, 'sentiment': {'neg': 0.0, 'neu': 1.0, 'pos': 0.0, 'compound': 0.0}}, 21: {'token': 'conductor', 'count': 2, 'tag': 'NN', 'frequency': 0.001367053998632946, 'sentiment': {'neg': 0.0, 'neu': 1.0, 'pos': 0.0, 'compound': 0.0}}, 1297: {'token': 'any', 'count': 3, 'tag': 'DT', 'frequency': 0.002050580997949419, 'sentiment': {'neg': 0.0, 'neu': 1.0, 'pos': 0.0, 'compound': 0.0}}, 15: {'token': 'be', 'count': 16, 'tag': 'VB', 'frequency': 0.010936431989063569, 'sentiment': {'neg': 0.0, 'neu': 1.0, 'pos': 0.0, 'compound': 0.0}}, 315: {'token': 'provide', 'count': 3, 'tag': 'VB', 'frequency': 0.002050580997949419, 'sentiment': {'neg': 0.0, 'neu': 1.0, 'pos': 0.0, 'compound': 0.0}}, 326: {'token': 'do', 'count': 2, 'tag': 'VBP', 'frequency': 0.001367053998632946, 'sentiment': {'neg': 0.0, 'neu': 1.0, 'pos': 0.0, 'compound': 0.0}}, 165: {'token': 'rod', 'count': 2, 'tag': 'NN', 'frequency': 0.001367053998632946, 'sentiment': {'neg': 0.0, 'neu': 1.0, 'pos': 0.0, 'compound': 0.0}}, 1106: {'token': 'users', 'count': 2, 'tag': 'NNS', 'frequency': 0.001367053998632946, 'sentiment': {'neg': 0.0, 'neu': 1.0, 'pos': 0.0, 'compound': 0.0}}, 53: {'token': 'atmosphere', 'count': 1, 'tag': 'NN', 'frequency': 0.000683526999316473, 'sentiment': {'neg': 0.0, 'neu': 1.0, 'pos': 0.0, 'compound': 0.0}}, 232: {'token': 'technologies', 'count': 1, 'tag': 'NNS', 'frequency': 0.000683526999316473, 'sentiment': {'neg': 0.0, 'neu': 1.0, 'pos': 0.0, 'compound': 0.0}}, 235: {'token': 'developed', 'count': 1, 'tag': 'VBN', 'frequency': 0.000683526999316473, 'sentiment': {'neg': 0.0, 'neu': 1.0, 'pos': 0.0, 'compound': 0.0}}, 118: {'token': 'can', 'count': 10, 'tag': 'MD', 'frequency': 0.00683526999316473, 'sentiment': {'neg': 0.0, 'neu': 1.0, 'pos': 0.0, 'compound': 0.0}}, 359: {'token': 'directing', 'count': 2, 'tag': 'VBG', 'frequency': 0.001367053998632946, 'sentiment': {'neg': 0.0, 'neu': 1.0, 'pos': 0.0, 'compound': 0.0}}, 63: {'token': 'therefore', 'count': 1, 'tag': 'IN', 'frequency': 0.000683526999316473, 'sentiment': {'neg': 0.0, 'neu': 1.0, 'pos': 0.0, 'compound': 0.0}}, 1031: {'token': 'once', 'count': 2, 'tag': 'RB', 'frequency': 0.001367053998632946, 'sentiment': {'neg': 0.0, 'neu': 1.0, 'pos': 0.0, 'compound': 0.0}}, 813: {'token': 'evaluate', 'count': 1, 'tag': 'VB', 'frequency': 0.000683526999316473, 'sentiment': {'neg': 0.0, 'neu': 1.0, 'pos': 0.0, 'compound': 0.0}}, 711: {'token': 'manufacture', 'count': 2, 'tag': 'VBP', 'frequency': 0.001367053998632946, 'sentiment': {'neg': 0.0, 'neu': 1.0, 'pos': 0.0, 'compound': 0.0}}, 363: {'token': 'safely', 'count': 3, 'tag': 'RB', 'frequency': 0.002050580997949419, 'sentiment': {'neg': 0.0, 'neu': 0.0, 'pos': 1.0, 'compound': 0.4939}}, 82: {'token': 'other', 'count': 6, 'tag': 'JJ', 'frequency': 0.004101161995898838, 'sentiment': {'neg': 0.0, 'neu': 1.0, 'pos': 0.0, 'compound': 0.0}}, 962: {'token': 'multiple', 'count': 1, 'tag': 'JJ', 'frequency': 0.000683526999316473, 'sentiment': {'neg': 0.0, 'neu': 1.0, 'pos': 0.0, 'compound': 0.0}}, 371: {'token': 'structure', 'count': 6, 'tag': 'NN', 'frequency': 0.004101161995898838, 'sentiment': {'neg': 0.0, 'neu': 1.0, 'pos': 0.0, 'compound': 0.0}}, 1116: {'token': 'need', 'count': 1, 'tag': 'VB', 'frequency': 0.000683526999316473, 'sentiment': {'neg': 0.0, 'neu': 1.0, 'pos': 0.0, 'compound': 0.0}}, 515: {'token': 'enormous', 'count': 1, 'tag': 'JJ', 'frequency': 0.000683526999316473, 'sentiment': {'neg': 0.0, 'neu': 1.0, 'pos': 0.0, 'compound': 0.0}}, 1140: {'token': 'lead', 'count': 1, 'tag': 'VB', 'frequency': 0.000683526999316473, 'sentiment': {'neg': 0.0, 'neu': 1.0, 'pos': 0.0, 'compound': 0.0}}, 689: {'token': 'who', 'count': 1, 'tag': 'WP', 'frequency': 0.000683526999316473, 'sentiment': {'neg': 0.0, 'neu': 1.0, 'pos': 0.0, 'compound': 0.0}}, 268: {'token': 'try', 'count': 1, 'tag': 'VB', 'frequency': 0.000683526999316473, 'sentiment': {'neg': 0.0, 'neu': 1.0, 'pos': 0.0, 'compound': 0.0}}, 133: {'token': 'sphere', 'count': 1, 'tag': 'RB', 'frequency': 0.000683526999316473, 'sentiment': {'neg': 0.0, 'neu': 1.0, 'pos': 0.0, 'compound': 0.0}}, 90: {'token': 'such', 'count': 8, 'tag': 'JJ', 'frequency': 0.005468215994531784, 'sentiment': {'neg': 0.0, 'neu': 1.0, 'pos': 0.0, 'compound': 0.0}}, 150: {'token': 'natural', 'count': 1, 'tag': 'JJ', 'frequency': 0.000683526999316473, 'sentiment': {'neg': 0.0, 'neu': 0.0, 'pos': 1.0, 'compound': 0.3612}}, 1462: {'token': 'helpful', 'count': 1, 'tag': 'JJ', 'frequency': 0.000683526999316473, 'sentiment': {'neg': 0.0, 'neu': 0.0, 'pos': 1.0, 'compound': 0.4215}}, 296: {'token': 'attract', 'count': 3, 'tag': 'VB', 'frequency': 0.002050580997949419, 'sentiment': {'neg': 0.0, 'neu': 0.0, 'pos': 1.0, 'compound': 0.3612}}, 169: {'token': 'grounding', 'count': 8, 'tag': 'NN', 'frequency': 0.005468215994531784, 'sentiment': {'neg': 0.0, 'neu': 1.0, 'pos': 0.0, 'compound': 0.0}}, 1024: {'token': 'face', 'count': 1, 'tag': 'NN', 'frequency': 0.000683526999316473, 'sentiment': {'neg': 0.0, 'neu': 1.0, 'pos': 0.0, 'compound': 0.0}}, 1060: {'token': 'separate', 'count': 4, 'tag': 'JJ', 'frequency': 0.002734107997265892, 'sentiment': {'neg': 0.0, 'neu': 1.0, 'pos': 0.0, 'compound': 0.0}}, 270: {'token': 'manipulate', 'count': 1, 'tag': 'VB', 'frequency': 0.000683526999316473, 'sentiment': {'neg': 0.0, 'neu': 1.0, 'pos': 0.0, 'compound': 0.0}}, 656: {'token': 'only', 'count': 1, 'tag': 'RB', 'frequency': 0.000683526999316473, 'sentiment': {'neg': 0.0, 'neu': 1.0, 'pos': 0.0, 'compound': 0.0}}, 890: {'token': 'all', 'count': 2, 'tag': 'DT', 'frequency': 0.001367053998632946, 'sentiment': {'neg': 0.0, 'neu': 1.0, 'pos': 0.0, 'compound': 0.0}}, 986: {'token': 'satellite', 'count': 1, 'tag': 'NN', 'frequency': 0.000683526999316473, 'sentiment': {'neg': 0.0, 'neu': 1.0, 'pos': 0.0, 'compound': 0.0}}, 2: {'token': 'strikes', 'count': 8, 'tag': 'NNS', 'frequency': 0.005468215994531784, 'sentiment': {'neg': 1.0, 'neu': 0.0, 'pos': 0.0, 'compound': -0.3612}}, 1114: {'token': 'fork', 'count': 3, 'tag': 'NN', 'frequency': 0.002050580997949419, 'sentiment': {'neg': 0.0, 'neu': 1.0, 'pos': 0.0, 'compound': 0.0}}, 718: {'token': 'include', 'count': 1, 'tag': 'VBP', 'frequency': 0.000683526999316473, 'sentiment': {'neg': 0.0, 'neu': 1.0, 'pos': 0.0, 'compound': 0.0}}, 625: {'token': 'instruments', 'count': 1, 'tag': 'NNS', 'frequency': 0.000683526999316473, 'sentiment': {'neg': 0.0, 'neu': 1.0, 'pos': 0.0, 'compound': 0.0}}, 286: {'token': 'influence', 'count': 1, 'tag': 'VB', 'frequency': 0.000683526999316473, 'sentiment': {'neg': 0.0, 'neu': 1.0, 'pos': 0.0, 'compound': 0.0}}, 752: {'token': 'erico', 'count': 1, 'tag': 'VBP', 'frequency': 0.000683526999316473, 'sentiment': {'neg': 0.0, 'neu': 1.0, 'pos': 0.0, 'compound': 0.0}}, 415: {'token': 'regulations', 'count': 1, 'tag': 'NNS', 'frequency': 0.000683526999316473, 'sentiment': {'neg': 0.0, 'neu': 1.0, 'pos': 0.0, 'compound': 0.0}}, 844: {'token': 'fragmented', 'count': 1, 'tag': 'VBN', 'frequency': 0.000683526999316473, 'sentiment': {'neg': 0.0, 'neu': 1.0, 'pos': 0.0, 'compound': 0.0}}, 773: {'token': 'many', 'count': 1, 'tag': 'JJ', 'frequency': 0.000683526999316473, 'sentiment': {'neg': 0.0, 'neu': 1.0, 'pos': 0.0, 'compound': 0.0}}, 67: {'token': 'currently', 'count': 1, 'tag': 'RB', 'frequency': 0.000683526999316473, 'sentiment': {'neg': 0.0, 'neu': 1.0, 'pos': 0.0, 'compound': 0.0}}, 641: {'token': 'note', 'count': 1, 'tag': 'VB', 'frequency': 0.000683526999316473, 'sentiment': {'neg': 0.0, 'neu': 1.0, 'pos': 0.0, 'compound': 0.0}}, 895: {'token': 'each', 'count': 4, 'tag': 'DT', 'frequency': 0.002734107997265892, 'sentiment': {'neg': 0.0, 'neu': 1.0, 'pos': 0.0, 'compound': 0.0}}, 1363: {'token': 'valid', 'count': 1, 'tag': 'JJ', 'frequency': 0.000683526999316473, 'sentiment': {'neg': 0.0, 'neu': 1.0, 'pos': 0.0, 'compound': 0.0}}, 245: {'token': 'viable', 'count': 1, 'tag': 'JJ', 'frequency': 0.000683526999316473, 'sentiment': {'neg': 0.0, 'neu': 1.0, 'pos': 0.0, 'compound': 0.0}}, 252: {'token': 'sufficiently', 'count': 1, 'tag': 'RB', 'frequency': 0.000683526999316473, 'sentiment': {'neg': 0.0, 'neu': 1.0, 'pos': 0.0, 'compound': 0.0}}, 340: {'token': 'systems', 'count': 7, 'tag': 'NNS', 'frequency': 0.004784688995215311, 'sentiment': {'neg': 0.0, 'neu': 1.0, 'pos': 0.0, 'compound': 0.0}}, 730: {'token': 'dehn', 'count': 1, 'tag': 'VBZ', 'frequency': 0.000683526999316473, 'sentiment': {'neg': 0.0, 'neu': 1.0, 'pos': 0.0, 'compound': 0.0}}, 655: {'token': 'should', 'count': 2, 'tag': 'MD', 'frequency': 0.001367053998632946, 'sentiment': {'neg': 0.0, 'neu': 1.0, 'pos': 0.0, 'compound': 0.0}}, 1095: {'token': 'how', 'count': 2, 'tag': 'WRB', 'frequency': 0.001367053998632946, 'sentiment': {'neg': 0.0, 'neu': 1.0, 'pos': 0.0, 'compound': 0.0}}, 933: {'token': 'validate', 'count': 1, 'tag': 'VB', 'frequency': 0.000683526999316473, 'sentiment': {'neg': 0.0, 'neu': 0.0, 'pos': 1.0, 'compound': 0.3612}}, 723: {'token': 'manufacturer', 'count': 4, 'tag': 'NN', 'frequency': 0.002734107997265892, 'sentiment': {'neg': 0.0, 'neu': 1.0, 'pos': 0.0, 'compound': 0.0}}, 856: {'token': 'function', 'count': 2, 'tag': 'VB', 'frequency': 0.001367053998632946, 'sentiment': {'neg': 0.0, 'neu': 1.0, 'pos': 0.0, 'compound': 0.0}}, 8: {'token': 'from', 'count': 8, 'tag': 'IN', 'frequency': 0.005468215994531784, 'sentiment': {'neg': 0.0, 'neu': 1.0, 'pos': 0.0, 'compound': 0.0}}, 1252: {'token': 'resolved', 'count': 1, 'tag': 'VBN', 'frequency': 0.000683526999316473, 'sentiment': {'neg': 0.0, 'neu': 0.0, 'pos': 1.0, 'compound': 0.1779}}, 960: {'token': 'redundancy', 'count': 1, 'tag': 'NN', 'frequency': 0.000683526999316473, 'sentiment': {'neg': 0.0, 'neu': 1.0, 'pos': 0.0, 'compound': 0.0}}, 240: {'token': 'make', 'count': 1, 'tag': 'VB', 'frequency': 0.000683526999316473, 'sentiment': {'neg': 0.0, 'neu': 1.0, 'pos': 0.0, 'compound': 0.0}}, 9: {'token': 'earth', 'count': 1, 'tag': 'NN', 'frequency': 0.000683526999316473, 'sentiment': {'neg': 0.0, 'neu': 1.0, 'pos': 0.0, 'compound': 0.0}}, 1373: {'token': 'included', 'count': 1, 'tag': 'VBN', 'frequency': 0.000683526999316473, 'sentiment': {'neg': 0.0, 'neu': 1.0, 'pos': 0.0, 'compound': 0.0}}, 821: {'token': 'solution', 'count': 1, 'tag': 'NN', 'frequency': 0.000683526999316473, 'sentiment': {'neg': 0.0, 'neu': 0.0, 'pos': 1.0, 'compound': 0.3182}}, 20: {'token': 'stable', 'count': 2, 'tag': 'JJ', 'frequency': 0.001367053998632946, 'sentiment': {'neg': 0.0, 'neu': 0.0, 'pos': 1.0, 'compound': 0.296}}, 166: {'token': 'connected', 'count': 2, 'tag': 'VBN', 'frequency': 0.001367053998632946, 'sentiment': {'neg': 0.0, 'neu': 1.0, 'pos': 0.0, 'compound': 0.0}}, 677: {'token': 'proper', 'count': 1, 'tag': 'JJ', 'frequency': 0.000683526999316473, 'sentiment': {'neg': 0.0, 'neu': 1.0, 'pos': 0.0, 'compound': 0.0}}, 1247: {'token': 'forks', 'count': 2, 'tag': 'NNS', 'frequency': 0.001367053998632946, 'sentiment': {'neg': 0.0, 'neu': 1.0, 'pos': 0.0, 'compound': 0.0}}, 29: {'token': 'eletricity', 'count': 1, 'tag': 'NN', 'frequency': 0.000683526999316473, 'sentiment': {'neg': 0.0, 'neu': 1.0, 'pos': 0.0, 'compound': 0.0}}, 105: {'token': 'two', 'count': 4, 'tag': 'CD', 'frequency': 0.002734107997265892, 'sentiment': {'neg': 0.0, 'neu': 1.0, 'pos': 0.0, 'compound': 0.0}}, 323: {'token': 'currents', 'count': 1, 'tag': 'NNS', 'frequency': 0.000683526999316473, 'sentiment': {'neg': 0.0, 'neu': 1.0, 'pos': 0.0, 'compound': 0.0}}, 888: {'token': 'difficult', 'count': 1, 'tag': 'JJ', 'frequency': 0.000683526999316473, 'sentiment': {'neg': 1.0, 'neu': 0.0, 'pos': 0.0, 'compound': -0.3612}}, 982: {'token': 'alternative', 'count': 1, 'tag': 'JJ', 'frequency': 0.000683526999316473, 'sentiment': {'neg': 0.0, 'neu': 1.0, 'pos': 0.0, 'compound': 0.0}}, 212: {'token': 'wind', 'count': 1, 'tag': 'JJ', 'frequency': 0.000683526999316473, 'sentiment': {'neg': 0.0, 'neu': 1.0, 'pos': 0.0, 'compound': 0.0}}, 697: {'token': 'built', 'count': 1, 'tag': 'VBN', 'frequency': 0.000683526999316473, 'sentiment': {'neg': 0.0, 'neu': 1.0, 'pos': 0.0, 'compound': 0.0}}, 1282: {'token': 'you', 'count': 5, 'tag': 'PRP', 'frequency': 0.003417634996582365, 'sentiment': {'neg': 0.0, 'neu': 1.0, 'pos': 0.0, 'compound': 0.0}}, 700: {'token': 'manufacturers', 'count': 1, 'tag': 'NNS', 'frequency': 0.000683526999316473, 'sentiment': {'neg': 0.0, 'neu': 1.0, 'pos': 0.0, 'compound': 0.0}}, 810: {'token': 'designer', 'count': 1, 'tag': 'NN', 'frequency': 0.000683526999316473, 'sentiment': {'neg': 0.0, 'neu': 1.0, 'pos': 0.0, 'compound': 0.0}}, 1276: {'token': 'security', 'count': 1, 'tag': 'NN', 'frequency': 0.000683526999316473, 'sentiment': {'neg': 0.0, 'neu': 0.0, 'pos': 1.0, 'compound': 0.34}}, 994: {'token': 'fragmentation', 'count': 2, 'tag': 'NN', 'frequency': 0.001367053998632946, 'sentiment': {'neg': 0.0, 'neu': 1.0, 'pos': 0.0, 'compound': 0.0}}, 238: {'token': 'future', 'count': 1, 'tag': 'NN', 'frequency': 0.000683526999316473, 'sentiment': {'neg': 0.0, 'neu': 1.0, 'pos': 0.0, 'compound': 0.0}}, 159: {'token': 'consist', 'count': 1, 'tag': 'VBP', 'frequency': 0.000683526999316473, 'sentiment': {'neg': 0.0, 'neu': 1.0, 'pos': 0.0, 'compound': 0.0}}, 708: {'token': 'well-known', 'count': 1, 'tag': 'JJ', 'frequency': 0.000683526999316473, 'sentiment': {'neg': 0.0, 'neu': 1.0, 'pos': 0.0, 'compound': 0.0}}, 131: {'token': 'grounded', 'count': 1, 'tag': 'JJ', 'frequency': 0.000683526999316473, 'sentiment': {'neg': 0.0, 'neu': 1.0, 'pos': 0.0, 'compound': 0.0}}, 3: {'token': 'it', 'count': 20, 'tag': 'PRP', 'frequency': 0.01367053998632946, 'sentiment': {'neg': 0.0, 'neu': 1.0, 'pos': 0.0, 'compound': 0.0}}, 832: {'token': 'will', 'count': 1, 'tag': 'MD', 'frequency': 0.000683526999316473, 'sentiment': {'neg': 0.0, 'neu': 1.0, 'pos': 0.0, 'compound': 0.0}}, 875: {'token': 'parts', 'count': 2, 'tag': 'NNS', 'frequency': 0.001367053998632946, 'sentiment': {'neg': 0.0, 'neu': 1.0, 'pos': 0.0, 'compound': 0.0}}, 581: {'token': 'direct', 'count': 1, 'tag': 'VB', 'frequency': 0.000683526999316473, 'sentiment': {'neg': 0.0, 'neu': 1.0, 'pos': 0.0, 'compound': 0.0}}, 902: {'token': 'worth', 'count': 2, 'tag': 'JJ', 'frequency': 0.001367053998632946, 'sentiment': {'neg': 0.0, 'neu': 0.0, 'pos': 1.0, 'compound': 0.2263}}, 424: {'token': 'people', 'count': 1, 'tag': 'NNS', 'frequency': 0.000683526999316473, 'sentiment': {'neg': 0.0, 'neu': 1.0, 'pos': 0.0, 'compound': 0.0}}, 23: {'token': 'electro', 'count': 1, 'tag': 'JJ', 'frequency': 0.000683526999316473, 'sentiment': {'neg': 0.0, 'neu': 1.0, 'pos': 0.0, 'compound': 0.0}}, 1451: {'token': 'bringing', 'count': 1, 'tag': 'VBG', 'frequency': 0.000683526999316473, 'sentiment': {'neg': 0.0, 'neu': 1.0, 'pos': 0.0, 'compound': 0.0}}, 43: {'token': 'involving', 'count': 1, 'tag': 'VBG', 'frequency': 0.000683526999316473, 'sentiment': {'neg': 0.0, 'neu': 1.0, 'pos': 0.0, 'compound': 0.0}}, 92: {'token': 'through', 'count': 5, 'tag': 'IN', 'frequency': 0.003417634996582365, 'sentiment': {'neg': 0.0, 'neu': 1.0, 'pos': 0.0, 'compound': 0.0}}, 521: {'token': 'specialized', 'count': 3, 'tag': 'JJ', 'frequency': 0.002050580997949419, 'sentiment': {'neg': 0.0, 'neu': 1.0, 'pos': 0.0, 'compound': 0.0}}, 818: {'token': 'design', 'count': 1, 'tag': 'NN', 'frequency': 0.000683526999316473, 'sentiment': {'neg': 0.0, 'neu': 1.0, 'pos': 0.0, 'compound': 0.0}}, 100: {'token': 'generated', 'count': 1, 'tag': 'VBN', 'frequency': 0.000683526999316473, 'sentiment': {'neg': 0.0, 'neu': 1.0, 'pos': 0.0, 'compound': 0.0}}, 207: {'token': 'sources', 'count': 1, 'tag': 'NNS', 'frequency': 0.000683526999316473, 'sentiment': {'neg': 0.0, 'neu': 1.0, 'pos': 0.0, 'compound': 0.0}}, 1328: {'token': 'null', 'count': 1, 'tag': 'NN', 'frequency': 0.000683526999316473, 'sentiment': {'neg': 0.0, 'neu': 1.0, 'pos': 0.0, 'compound': 0.0}}, 1404: {'token': 'own', 'count': 1, 'tag': 'JJ', 'frequency': 0.000683526999316473, 'sentiment': {'neg': 0.0, 'neu': 1.0, 'pos': 0.0, 'compound': 0.0}}, 404: {'token': 'flammable', 'count': 1, 'tag': 'JJ', 'frequency': 0.000683526999316473, 'sentiment': {'neg': 0.0, 'neu': 1.0, 'pos': 0.0, 'compound': 0.0}}, 1412: {'token': 'competing', 'count': 1, 'tag': 'VBG', 'frequency': 0.000683526999316473, 'sentiment': {'neg': 0.0, 'neu': 1.0, 'pos': 0.0, 'compound': 0.0}}, 658: {'token': 'done', 'count': 1, 'tag': 'VBN', 'frequency': 0.000683526999316473, 'sentiment': {'neg': 0.0, 'neu': 1.0, 'pos': 0.0, 'compound': 0.0}}, 1188: {'token': 'rates', 'count': 1, 'tag': 'NNS', 'frequency': 0.000683526999316473, 'sentiment': {'neg': 0.0, 'neu': 1.0, 'pos': 0.0, 'compound': 0.0}}, 1118: {'token': 'decide', 'count': 1, 'tag': 'VB', 'frequency': 0.000683526999316473, 'sentiment': {'neg': 0.0, 'neu': 1.0, 'pos': 0.0, 'compound': 0.0}}, 392: {'token': 'injury', 'count': 1, 'tag': 'NN', 'frequency': 0.000683526999316473, 'sentiment': {'neg': 1.0, 'neu': 0.0, 'pos': 0.0, 'compound': -0.4215}}, 246: {'token': 'source', 'count': 1, 'tag': 'NN', 'frequency': 0.000683526999316473, 'sentiment': {'neg': 0.0, 'neu': 1.0, 'pos': 0.0, 'compound': 0.0}}, 1256: {'token': 'little', 'count': 1, 'tag': 'JJ', 'frequency': 0.000683526999316473, 'sentiment': {'neg': 0.0, 'neu': 1.0, 'pos': 0.0, 'compound': 0.0}}, 1087: {'token': 'sets', 'count': 1, 'tag': 'NNS', 'frequency': 0.000683526999316473, 'sentiment': {'neg': 0.0, 'neu': 1.0, 'pos': 0.0, 'compound': 0.0}}, 688: {'token': 'avoided', 'count': 1, 'tag': 'VBN', 'frequency': 0.000683526999316473, 'sentiment': {'neg': 1.0, 'neu': 0.0, 'pos': 0.0, 'compound': -0.34}}, 801: {'token': 'also', 'count': 1, 'tag': 'RB', 'frequency': 0.000683526999316473, 'sentiment': {'neg': 0.0, 'neu': 1.0, 'pos': 0.0, 'compound': 0.0}}, 158: {'token': 'typically', 'count': 2, 'tag': 'RB', 'frequency': 0.001367053998632946, 'sentiment': {'neg': 0.0, 'neu': 1.0, 'pos': 0.0, 'compound': 0.0}}, 733: {'token': 'provider', 'count': 2, 'tag': 'NN', 'frequency': 0.001367053998632946, 'sentiment': {'neg': 0.0, 'neu': 1.0, 'pos': 0.0, 'compound': 0.0}}, 1207: {'token': 'classic', 'count': 1, 'tag': 'NN', 'frequency': 0.000683526999316473, 'sentiment': {'neg': 0.0, 'neu': 1.0, 'pos': 0.0, 'compound': 0.0}}, 352: {'token': 'least', 'count': 2, 'tag': 'JJS', 'frequency': 0.001367053998632946, 'sentiment': {'neg': 0.0, 'neu': 1.0, 'pos': 0.0, 'compound': 0.0}}, 185: {'token': 'into', 'count': 4, 'tag': 'IN', 'frequency': 0.002734107997265892, 'sentiment': {'neg': 0.0, 'neu': 1.0, 'pos': 0.0, 'compound': 0.0}}, 5: {'token': 'an', 'count': 3, 'tag': 'DT', 'frequency': 0.002050580997949419, 'sentiment': {'neg': 0.0, 'neu': 1.0, 'pos': 0.0, 'compound': 0.0}}, 977: {'token': 'connect', 'count': 1, 'tag': 'VB', 'frequency': 0.000683526999316473, 'sentiment': {'neg': 0.0, 'neu': 1.0, 'pos': 0.0, 'compound': 0.0}}, 127: {'token': 'rotating', 'count': 1, 'tag': 'VBG', 'frequency': 0.000683526999316473, 'sentiment': {'neg': 0.0, 'neu': 1.0, 'pos': 0.0, 'compound': 0.0}}, 188: {'token': 'device', 'count': 1, 'tag': 'NN', 'frequency': 0.000683526999316473, 'sentiment': {'neg': 0.0, 'neu': 1.0, 'pos': 0.0, 'compound': 0.0}}, 762: {'token': 'electric', 'count': 1, 'tag': 'JJ', 'frequency': 0.000683526999316473, 'sentiment': {'neg': 0.0, 'neu': 1.0, 'pos': 0.0, 'compound': 0.0}}, 221: {'token': 'large', 'count': 4, 'tag': 'JJ', 'frequency': 0.002734107997265892, 'sentiment': {'neg': 0.0, 'neu': 1.0, 'pos': 0.0, 'compound': 0.0}}, 293: {'token': 'techniques', 'count': 1, 'tag': 'NNS', 'frequency': 0.000683526999316473, 'sentiment': {'neg': 0.0, 'neu': 1.0, 'pos': 0.0, 'compound': 0.0}}, 260: {'token': 'at', 'count': 1, 'tag': 'IN', 'frequency': 0.000683526999316473, 'sentiment': {'neg': 0.0, 'neu': 1.0, 'pos': 0.0, 'compound': 0.0}}, 1285: {'token': 'right', 'count': 1, 'tag': 'RB', 'frequency': 0.000683526999316473, 'sentiment': {'neg': 0.0, 'neu': 1.0, 'pos': 0.0, 'compound': 0.0}}, 1424: {'token': 'switch', 'count': 1, 'tag': 'VB', 'frequency': 0.000683526999316473, 'sentiment': {'neg': 0.0, 'neu': 1.0, 'pos': 0.0, 'compound': 0.0}}, 439: {'token': 'low', 'count': 2, 'tag': 'JJ', 'frequency': 0.001367053998632946, 'sentiment': {'neg': 1.0, 'neu': 0.0, 'pos': 0.0, 'compound': -0.2732}}, 1209: {'token': 'forked', 'count': 1, 'tag': 'VBD', 'frequency': 0.000683526999316473, 'sentiment': {'neg': 0.0, 'neu': 1.0, 'pos': 0.0, 'compound': 0.0}}, 621: {'token': 'telecommunications', 'count': 1, 'tag': 'NNS', 'frequency': 0.000683526999316473, 'sentiment': {'neg': 0.0, 'neu': 1.0, 'pos': 0.0, 'compound': 0.0}}, 851: {'token': 'network', 'count': 19, 'tag': 'NN', 'frequency': 0.012987012987012988, 'sentiment': {'neg': 0.0, 'neu': 1.0, 'pos': 0.0, 'compound': 0.0}}, 917: {'token': 'built-in', 'count': 1, 'tag': 'JJ', 'frequency': 0.000683526999316473, 'sentiment': {'neg': 0.0, 'neu': 1.0, 'pos': 0.0, 'compound': 0.0}}, 806: {'token': 'professional', 'count': 1, 'tag': 'JJ', 'frequency': 0.000683526999316473, 'sentiment': {'neg': 0.0, 'neu': 1.0, 'pos': 0.0, 'compound': 0.0}}, 834: {'token': 'fall', 'count': 1, 'tag': 'VB', 'frequency': 0.000683526999316473, 'sentiment': {'neg': 0.0, 'neu': 1.0, 'pos': 0.0, 'compound': 0.0}}, 1312: {'token': 'reconnected', 'count': 2, 'tag': 'VBD', 'frequency': 0.001367053998632946, 'sentiment': {'neg': 0.0, 'neu': 1.0, 'pos': 0.0, 'compound': 0.0}}, 152: {'token': 'charge', 'count': 6, 'tag': 'NN', 'frequency': 0.004101161995898838, 'sentiment': {'neg': 0.0, 'neu': 1.0, 'pos': 0.0, 'compound': 0.0}}, 219: {'token': 'on', 'count': 9, 'tag': 'IN', 'frequency': 0.006151742993848257, 'sentiment': {'neg': 0.0, 'neu': 1.0, 'pos': 0.0, 'compound': 0.0}}, 45: {'token': 'buildup', 'count': 1, 'tag': 'NN', 'frequency': 0.000683526999316473, 'sentiment': {'neg': 0.0, 'neu': 1.0, 'pos': 0.0, 'compound': 0.0}}, 527: {'token': 'way', 'count': 1, 'tag': 'NN', 'frequency': 0.000683526999316473, 'sentiment': {'neg': 0.0, 'neu': 1.0, 'pos': 0.0, 'compound': 0.0}}, 113: {'token': 'van', 'count': 1, 'tag': 'NN', 'frequency': 0.000683526999316473, 'sentiment': {'neg': 0.0, 'neu': 1.0, 'pos': 0.0, 'compound': 0.0}}, 278: {'token': 'dangerous', 'count': 2, 'tag': 'JJ', 'frequency': 0.001367053998632946, 'sentiment': {'neg': 1.0, 'neu': 0.0, 'pos': 0.0, 'compound': -0.4767}}, 1301: {'token': \"n't\", 'count': 1, 'tag': 'RB', 'frequency': 0.000683526999316473, 'sentiment': {'neg': 0.0, 'neu': 1.0, 'pos': 0.0, 'compound': 0.0}}, 522: {'token': 'equipment', 'count': 9, 'tag': 'NN', 'frequency': 0.006151742993848257, 'sentiment': {'neg': 0.0, 'neu': 1.0, 'pos': 0.0, 'compound': 0.0}}, 104: {'token': 'between', 'count': 1, 'tag': 'IN', 'frequency': 0.000683526999316473, 'sentiment': {'neg': 0.0, 'neu': 1.0, 'pos': 0.0, 'compound': 0.0}}, 1253: {'token': 'quickly', 'count': 1, 'tag': 'RB', 'frequency': 0.000683526999316473, 'sentiment': {'neg': 0.0, 'neu': 1.0, 'pos': 0.0, 'compound': 0.0}}, 1191: {'token': 'bases', 'count': 1, 'tag': 'NNS', 'frequency': 0.000683526999316473, 'sentiment': {'neg': 0.0, 'neu': 1.0, 'pos': 0.0, 'compound': 0.0}}, 1218: {'token': 'over', 'count': 1, 'tag': 'IN', 'frequency': 0.000683526999316473, 'sentiment': {'neg': 0.0, 'neu': 1.0, 'pos': 0.0, 'compound': 0.0}}, 420: {'token': 'ensure', 'count': 2, 'tag': 'VB', 'frequency': 0.001367053998632946, 'sentiment': {'neg': 0.0, 'neu': 0.0, 'pos': 1.0, 'compound': 0.3818}}, 598: {'token': 'store', 'count': 1, 'tag': 'VB', 'frequency': 0.000683526999316473, 'sentiment': {'neg': 0.0, 'neu': 1.0, 'pos': 0.0, 'compound': 0.0}}, 719: {'token': 'lec', 'count': 1, 'tag': 'JJ', 'frequency': 0.000683526999316473, 'sentiment': {'neg': 0.0, 'neu': 1.0, 'pos': 0.0, 'compound': 0.0}}, 10: {'token': 'to', 'count': 65, 'tag': 'TO', 'frequency': 0.04442925495557074, 'sentiment': {'neg': 0.0, 'neu': 1.0, 'pos': 0.0, 'compound': 0.0}}, 1227: {'token': 'smart', 'count': 1, 'tag': 'NN', 'frequency': 0.000683526999316473, 'sentiment': {'neg': 0.0, 'neu': 0.0, 'pos': 1.0, 'compound': 0.4019}}, 429: {'token': 'event', 'count': 3, 'tag': 'NN', 'frequency': 0.002050580997949419, 'sentiment': {'neg': 0.0, 'neu': 1.0, 'pos': 0.0, 'compound': 0.0}}, 1353: {'token': 'reconnects', 'count': 1, 'tag': 'VBZ', 'frequency': 0.000683526999316473, 'sentiment': {'neg': 0.0, 'neu': 1.0, 'pos': 0.0, 'compound': 0.0}}, 833: {'token': 'bitcoin', 'count': 13, 'tag': 'VB', 'frequency': 0.00888585099111415, 'sentiment': {'neg': 0.0, 'neu': 1.0, 'pos': 0.0, 'compound': 0.0}}, 1: {'token': 'lightening', 'count': 4, 'tag': 'VBG', 'frequency': 0.002734107997265892, 'sentiment': {'neg': 0.0, 'neu': 1.0, 'pos': 0.0, 'compound': 0.0}}, 988: {'token': 'mesh', 'count': 1, 'tag': 'JJ', 'frequency': 0.000683526999316473, 'sentiment': {'neg': 0.0, 'neu': 1.0, 'pos': 0.0, 'compound': 0.0}}, 1250: {'token': 'occur', 'count': 1, 'tag': 'NNS', 'frequency': 0.000683526999316473, 'sentiment': {'neg': 0.0, 'neu': 1.0, 'pos': 0.0, 'compound': 0.0}}, 418: {'token': 'protection', 'count': 13, 'tag': 'NN', 'frequency': 0.00888585099111415, 'sentiment': {'neg': 0.0, 'neu': 1.0, 'pos': 0.0, 'compound': 0.0}}, 795: {'token': 'selecting', 'count': 1, 'tag': 'VBG', 'frequency': 0.000683526999316473, 'sentiment': {'neg': 0.0, 'neu': 1.0, 'pos': 0.0, 'compound': 0.0}}, 913: {'token': 'disruptions', 'count': 2, 'tag': 'NNS', 'frequency': 0.001367053998632946, 'sentiment': {'neg': 1.0, 'neu': 0.0, 'pos': 0.0, 'compound': -0.34}}, 91: {'token': 'as', 'count': 11, 'tag': 'IN', 'frequency': 0.007518796992481203, 'sentiment': {'neg': 0.0, 'neu': 1.0, 'pos': 0.0, 'compound': 0.0}}, 1170: {'token': 'persist', 'count': 1, 'tag': 'VB', 'frequency': 0.000683526999316473, 'sentiment': {'neg': 0.0, 'neu': 1.0, 'pos': 0.0, 'compound': 0.0}}, 868: {'token': 'maintain', 'count': 2, 'tag': 'VB', 'frequency': 0.001367053998632946, 'sentiment': {'neg': 0.0, 'neu': 1.0, 'pos': 0.0, 'compound': 0.0}}, 1099: {'token': 'validated', 'count': 1, 'tag': 'VBN', 'frequency': 0.000683526999316473, 'sentiment': {'neg': 0.0, 'neu': 0.0, 'pos': 1.0, 'compound': 0.2263}}, 336: {'token': 'structures', 'count': 2, 'tag': 'NNS', 'frequency': 0.001367053998632946, 'sentiment': {'neg': 0.0, 'neu': 1.0, 'pos': 0.0, 'compound': 0.0}}, 916: {'token': 'several', 'count': 2, 'tag': 'JJ', 'frequency': 0.001367053998632946, 'sentiment': {'neg': 0.0, 'neu': 1.0, 'pos': 0.0, 'compound': 0.0}}, 61: {'token': 'controlled', 'count': 1, 'tag': 'JJ', 'frequency': 0.000683526999316473, 'sentiment': {'neg': 0.0, 'neu': 1.0, 'pos': 0.0, 'compound': 0.0}}, 202: {'token': 'efficient', 'count': 1, 'tag': 'JJ', 'frequency': 0.000683526999316473, 'sentiment': {'neg': 0.0, 'neu': 0.0, 'pos': 1.0, 'compound': 0.4215}}, 42: {'token': 'process', 'count': 1, 'tag': 'NN', 'frequency': 0.000683526999316473, 'sentiment': {'neg': 0.0, 'neu': 1.0, 'pos': 0.0, 'compound': 0.0}}, 739: {'token': 'solutions', 'count': 2, 'tag': 'NNS', 'frequency': 0.001367053998632946, 'sentiment': {'neg': 0.0, 'neu': 0.0, 'pos': 1.0, 'compound': 0.1779}}, 966: {'token': 'blockchain', 'count': 6, 'tag': 'NN', 'frequency': 0.004101161995898838, 'sentiment': {'neg': 0.0, 'neu': 1.0, 'pos': 0.0, 'compound': 0.0}}, 31: {'token': 'lightning', 'count': 36, 'tag': 'VBG', 'frequency': 0.02460697197539303, 'sentiment': {'neg': 0.0, 'neu': 1.0, 'pos': 0.0, 'compound': 0.0}}, 1029: {'token': 'would', 'count': 11, 'tag': 'MD', 'frequency': 0.007518796992481203, 'sentiment': {'neg': 0.0, 'neu': 1.0, 'pos': 0.0, 'compound': 0.0}}, 128: {'token': 'belt', 'count': 1, 'tag': 'NN', 'frequency': 0.000683526999316473, 'sentiment': {'neg': 0.0, 'neu': 1.0, 'pos': 0.0, 'compound': 0.0}}, 1284: {'token': 'exactly', 'count': 1, 'tag': 'RB', 'frequency': 0.000683526999316473, 'sentiment': {'neg': 0.0, 'neu': 1.0, 'pos': 0.0, 'compound': 0.0}}, 634: {'token': 'periods', 'count': 1, 'tag': 'NNS', 'frequency': 0.000683526999316473, 'sentiment': {'neg': 0.0, 'neu': 1.0, 'pos': 0.0, 'compound': 0.0}}, 411: {'token': 'established', 'count': 1, 'tag': 'VBN', 'frequency': 0.000683526999316473, 'sentiment': {'neg': 0.0, 'neu': 1.0, 'pos': 0.0, 'compound': 0.0}}, 742: {'token': 'international', 'count': 1, 'tag': 'JJ', 'frequency': 0.000683526999316473, 'sentiment': {'neg': 0.0, 'neu': 1.0, 'pos': 0.0, 'compound': 0.0}}, 1439: {'token': 'effectively', 'count': 1, 'tag': 'RB', 'frequency': 0.000683526999316473, 'sentiment': {'neg': 0.0, 'neu': 0.0, 'pos': 1.0, 'compound': 0.4404}}, 353: {'token': 'resistance', 'count': 2, 'tag': 'NN', 'frequency': 0.001367053998632946, 'sentiment': {'neg': 0.0, 'neu': 1.0, 'pos': 0.0, 'compound': 0.0}}, 452: {'token': 'produced', 'count': 6, 'tag': 'VBN', 'frequency': 0.004101161995898838, 'sentiment': {'neg': 0.0, 'neu': 1.0, 'pos': 0.0, 'compound': 0.0}}, 1081: {'token': 'versions', 'count': 1, 'tag': 'NNS', 'frequency': 0.000683526999316473, 'sentiment': {'neg': 0.0, 'neu': 1.0, 'pos': 0.0, 'compound': 0.0}}, 1427: {'token': 'longest', 'count': 1, 'tag': 'JJS', 'frequency': 0.000683526999316473, 'sentiment': {'neg': 0.0, 'neu': 1.0, 'pos': 0.0, 'compound': 0.0}}, 1458: {'token': 'hope', 'count': 1, 'tag': 'VBP', 'frequency': 0.000683526999316473, 'sentiment': {'neg': 0.0, 'neu': 0.0, 'pos': 1.0, 'compound': 0.4404}}, 262: {'token': 'location', 'count': 4, 'tag': 'NN', 'frequency': 0.002734107997265892, 'sentiment': {'neg': 0.0, 'neu': 1.0, 'pos': 0.0, 'compound': 0.0}}, 628: {'token': 'high', 'count': 1, 'tag': 'JJ', 'frequency': 0.000683526999316473, 'sentiment': {'neg': 0.0, 'neu': 1.0, 'pos': 0.0, 'compound': 0.0}}, 1455: {'token': 'attention', 'count': 1, 'tag': 'NN', 'frequency': 0.000683526999316473, 'sentiment': {'neg': 0.0, 'neu': 1.0, 'pos': 0.0, 'compound': 0.0}}, 854: {'token': 'ability', 'count': 2, 'tag': 'NN', 'frequency': 0.001367053998632946, 'sentiment': {'neg': 0.0, 'neu': 0.0, 'pos': 1.0, 'compound': 0.3182}}, 923: {'token': 'outages', 'count': 1, 'tag': 'NNS', 'frequency': 0.000683526999316473, 'sentiment': {'neg': 0.0, 'neu': 1.0, 'pos': 0.0, 'compound': 0.0}}, 151: {'token': 'electrical', 'count': 10, 'tag': 'JJ', 'frequency': 0.00683526999316473, 'sentiment': {'neg': 0.0, 'neu': 1.0, 'pos': 0.0, 'compound': 0.0}}, 1409: {'token': 'creating', 'count': 1, 'tag': 'VBG', 'frequency': 0.000683526999316473, 'sentiment': {'neg': 0.0, 'neu': 0.0, 'pos': 1.0, 'compound': 0.296}}, 28: {'token': 'renewable', 'count': 3, 'tag': 'JJ', 'frequency': 0.002050580997949419, 'sentiment': {'neg': 0.0, 'neu': 1.0, 'pos': 0.0, 'compound': 0.0}}, 1237: {'token': 'rare', 'count': 1, 'tag': 'JJ', 'frequency': 0.000683526999316473, 'sentiment': {'neg': 0.0, 'neu': 1.0, 'pos': 0.0, 'compound': 0.0}}, 1320: {'token': 'making', 'count': 1, 'tag': 'VBG', 'frequency': 0.000683526999316473, 'sentiment': {'neg': 0.0, 'neu': 1.0, 'pos': 0.0, 'compound': 0.0}}, 858: {'token': 'relies', 'count': 1, 'tag': 'NNS', 'frequency': 0.000683526999316473, 'sentiment': {'neg': 0.0, 'neu': 1.0, 'pos': 0.0, 'compound': 0.0}}, 408: {'token': 'important', 'count': 4, 'tag': 'JJ', 'frequency': 0.002734107997265892, 'sentiment': {'neg': 0.0, 'neu': 0.0, 'pos': 1.0, 'compound': 0.2023}}, 1111: {'token': 'side', 'count': 2, 'tag': 'NN', 'frequency': 0.001367053998632946, 'sentiment': {'neg': 0.0, 'neu': 1.0, 'pos': 0.0, 'compound': 0.0}}, 1028: {'token': 'what', 'count': 1, 'tag': 'WP', 'frequency': 0.000683526999316473, 'sentiment': {'neg': 0.0, 'neu': 1.0, 'pos': 0.0, 'compound': 0.0}}, 16: {'token': 'possible', 'count': 4, 'tag': 'JJ', 'frequency': 0.002734107997265892, 'sentiment': {'neg': 0.0, 'neu': 1.0, 'pos': 0.0, 'compound': 0.0}}, 1212: {'token': 'thousand', 'count': 1, 'tag': 'NN', 'frequency': 0.000683526999316473, 'sentiment': {'neg': 0.0, 'neu': 1.0, 'pos': 0.0, 'compound': 0.0}}, 132: {'token': 'metal', 'count': 2, 'tag': 'NN', 'frequency': 0.001367053998632946, 'sentiment': {'neg': 0.0, 'neu': 1.0, 'pos': 0.0, 'compound': 0.0}}, 1330: {'token': 'void', 'count': 1, 'tag': 'NN', 'frequency': 0.000683526999316473, 'sentiment': {'neg': 0.0, 'neu': 1.0, 'pos': 0.0, 'compound': 0.0}}, 11: {'token': 'the', 'count': 87, 'tag': 'DT', 'frequency': 0.059466848940533154, 'sentiment': {'neg': 0.0, 'neu': 1.0, 'pos': 0.0, 'compound': 0.0}}, 1440: {'token': 'nullifying', 'count': 1, 'tag': 'VBG', 'frequency': 0.000683526999316473, 'sentiment': {'neg': 0.0, 'neu': 1.0, 'pos': 0.0, 'compound': 0.0}}, 1000: {'token': 'pose', 'count': 1, 'tag': 'VB', 'frequency': 0.000683526999316473, 'sentiment': {'neg': 0.0, 'neu': 1.0, 'pos': 0.0, 'compound': 0.0}}, 27: {'token': 'generate', 'count': 6, 'tag': 'VB', 'frequency': 0.004101161995898838, 'sentiment': {'neg': 0.0, 'neu': 1.0, 'pos': 0.0, 'compound': 0.0}}, 1020: {'token': 'functioning', 'count': 1, 'tag': 'VBG', 'frequency': 0.000683526999316473, 'sentiment': {'neg': 0.0, 'neu': 1.0, 'pos': 0.0, 'compound': 0.0}}, 210: {'token': 'solar', 'count': 1, 'tag': 'JJ', 'frequency': 0.000683526999316473, 'sentiment': {'neg': 0.0, 'neu': 1.0, 'pos': 0.0, 'compound': 0.0}}, 387: {'token': 'significant', 'count': 2, 'tag': 'JJ', 'frequency': 0.001367053998632946, 'sentiment': {'neg': 0.0, 'neu': 0.0, 'pos': 1.0, 'compound': 0.2023}}, 680: {'token': 'training', 'count': 1, 'tag': 'NN', 'frequency': 0.000683526999316473, 'sentiment': {'neg': 0.0, 'neu': 1.0, 'pos': 0.0, 'compound': 0.0}}, 58: {'token': 'replicable', 'count': 1, 'tag': 'JJ', 'frequency': 0.000683526999316473, 'sentiment': {'neg': 0.0, 'neu': 1.0, 'pos': 0.0, 'compound': 0.0}}, 413: {'token': 'guidelines', 'count': 1, 'tag': 'NNS', 'frequency': 0.000683526999316473, 'sentiment': {'neg': 0.0, 'neu': 1.0, 'pos': 0.0, 'compound': 0.0}}, 62: {'token': 'manner', 'count': 1, 'tag': 'NN', 'frequency': 0.000683526999316473, 'sentiment': {'neg': 0.0, 'neu': 1.0, 'pos': 0.0, 'compound': 0.0}}, 440: {'token': 'impedance', 'count': 2, 'tag': 'NN', 'frequency': 0.001367053998632946, 'sentiment': {'neg': 0.0, 'neu': 1.0, 'pos': 0.0, 'compound': 0.0}}, 690: {'token': 'builds', 'count': 1, 'tag': 'VBZ', 'frequency': 0.000683526999316473, 'sentiment': {'neg': 0.0, 'neu': 1.0, 'pos': 0.0, 'compound': 0.0}}, 761: {'token': 'franklin', 'count': 1, 'tag': 'VBP', 'frequency': 0.000683526999316473, 'sentiment': {'neg': 0.0, 'neu': 1.0, 'pos': 0.0, 'compound': 0.0}}, 222: {'token': 'scale', 'count': 1, 'tag': 'NN', 'frequency': 0.000683526999316473, 'sentiment': {'neg': 0.0, 'neu': 1.0, 'pos': 0.0, 'compound': 0.0}}, 393: {'token': 'particularly', 'count': 1, 'tag': 'RB', 'frequency': 0.000683526999316473, 'sentiment': {'neg': 0.0, 'neu': 1.0, 'pos': 0.0, 'compound': 0.0}}, 1381: {'token': 'invalid', 'count': 1, 'tag': 'JJ', 'frequency': 0.000683526999316473, 'sentiment': {'neg': 0.0, 'neu': 1.0, 'pos': 0.0, 'compound': 0.0}}, 1239: {'token': 'extreme', 'count': 1, 'tag': 'JJ', 'frequency': 0.000683526999316473, 'sentiment': {'neg': 0.0, 'neu': 1.0, 'pos': 0.0, 'compound': 0.0}}, 416: {'token': 'regarding', 'count': 1, 'tag': 'VBG', 'frequency': 0.000683526999316473, 'sentiment': {'neg': 0.0, 'neu': 1.0, 'pos': 0.0, 'compound': 0.0}}, 720: {'token': 'global', 'count': 7, 'tag': 'JJ', 'frequency': 0.004784688995215311, 'sentiment': {'neg': 0.0, 'neu': 1.0, 'pos': 0.0, 'compound': 0.0}}, 929: {'token': 'continue', 'count': 3, 'tag': 'VB', 'frequency': 0.002050580997949419, 'sentiment': {'neg': 0.0, 'neu': 1.0, 'pos': 0.0, 'compound': 0.0}}, 1096: {'token': 'those', 'count': 2, 'tag': 'DT', 'frequency': 0.001367053998632946, 'sentiment': {'neg': 0.0, 'neu': 1.0, 'pos': 0.0, 'compound': 0.0}}, 1339: {'token': 'response', 'count': 1, 'tag': 'NN', 'frequency': 0.000683526999316473, 'sentiment': {'neg': 0.0, 'neu': 1.0, 'pos': 0.0, 'compound': 0.0}}, 187: {'token': 'storage', 'count': 1, 'tag': 'NN', 'frequency': 0.000683526999316473, 'sentiment': {'neg': 0.0, 'neu': 1.0, 'pos': 0.0, 'compound': 0.0}}, 229: {'token': 'area', 'count': 2, 'tag': 'NN', 'frequency': 0.001367053998632946, 'sentiment': {'neg': 0.0, 'neu': 1.0, 'pos': 0.0, 'compound': 0.0}}, 291: {'token': 'using', 'count': 2, 'tag': 'VBG', 'frequency': 0.001367053998632946, 'sentiment': {'neg': 0.0, 'neu': 1.0, 'pos': 0.0, 'compound': 0.0}}, 870: {'token': 'decentralized', 'count': 1, 'tag': 'VBN', 'frequency': 0.000683526999316473, 'sentiment': {'neg': 0.0, 'neu': 1.0, 'pos': 0.0, 'compound': 0.0}}, 864: {'token': 'nodes', 'count': 8, 'tag': 'NNS', 'frequency': 0.005468215994531784, 'sentiment': {'neg': 0.0, 'neu': 1.0, 'pos': 0.0, 'compound': 0.0}}, 233: {'token': 'may', 'count': 1, 'tag': 'MD', 'frequency': 0.000683526999316473, 'sentiment': {'neg': 0.0, 'neu': 1.0, 'pos': 0.0, 'compound': 0.0}}, 358: {'token': 'follow', 'count': 4, 'tag': 'VB', 'frequency': 0.002734107997265892, 'sentiment': {'neg': 0.0, 'neu': 1.0, 'pos': 0.0, 'compound': 0.0}}, 1335: {'token': 'apologize', 'count': 1, 'tag': 'NN', 'frequency': 0.000683526999316473, 'sentiment': {'neg': 0.0, 'neu': 0.0, 'pos': 1.0, 'compound': 0.1027}}, 915: {'token': 'has', 'count': 4, 'tag': 'VBZ', 'frequency': 0.002734107997265892, 'sentiment': {'neg': 0.0, 'neu': 1.0, 'pos': 0.0, 'compound': 0.0}}, 554: {'token': 'effects', 'count': 1, 'tag': 'NNS', 'frequency': 0.000683526999316473, 'sentiment': {'neg': 0.0, 'neu': 1.0, 'pos': 0.0, 'compound': 0.0}}, 1217: {'token': 'disagreement', 'count': 1, 'tag': 'NN', 'frequency': 0.000683526999316473, 'sentiment': {'neg': 1.0, 'neu': 0.0, 'pos': 0.0, 'compound': -0.3612}}, 211: {'token': 'or', 'count': 9, 'tag': 'CC', 'frequency': 0.006151742993848257, 'sentiment': {'neg': 0.0, 'neu': 1.0, 'pos': 0.0, 'compound': 0.0}}, 163: {'token': 'pointed', 'count': 1, 'tag': 'JJ', 'frequency': 0.000683526999316473, 'sentiment': {'neg': 0.0, 'neu': 1.0, 'pos': 0.0, 'compound': 0.0}}, 517: {'token': 'capturing', 'count': 2, 'tag': 'VBG', 'frequency': 0.001367053998632946, 'sentiment': {'neg': 0.0, 'neu': 1.0, 'pos': 0.0, 'compound': 0.0}}, 1038: {'token': 'blocks', 'count': 3, 'tag': 'NNS', 'frequency': 0.002050580997949419, 'sentiment': {'neg': 1.0, 'neu': 0.0, 'pos': 0.0, 'compound': -0.2263}}, 1143: {'token': 'split', 'count': 1, 'tag': 'NN', 'frequency': 0.000683526999316473, 'sentiment': {'neg': 0.0, 'neu': 1.0, 'pos': 0.0, 'compound': 0.0}}, 1380: {'token': 'considered', 'count': 1, 'tag': 'VBN', 'frequency': 0.000683526999316473, 'sentiment': {'neg': 0.0, 'neu': 1.0, 'pos': 0.0, 'compound': 0.0}}, 804: {'token': 'have', 'count': 1, 'tag': 'VB', 'frequency': 0.000683526999316473, 'sentiment': {'neg': 0.0, 'neu': 1.0, 'pos': 0.0, 'compound': 0.0}}, 968: {'token': 'across', 'count': 1, 'tag': 'IN', 'frequency': 0.000683526999316473, 'sentiment': {'neg': 0.0, 'neu': 1.0, 'pos': 0.0, 'compound': 0.0}}, 303: {'token': 'with', 'count': 9, 'tag': 'IN', 'frequency': 0.006151742993848257, 'sentiment': {'neg': 0.0, 'neu': 1.0, 'pos': 0.0, 'compound': 0.0}}, 1093: {'token': 'rules', 'count': 4, 'tag': 'NNS', 'frequency': 0.002734107997265892, 'sentiment': {'neg': 0.0, 'neu': 1.0, 'pos': 0.0, 'compound': 0.0}}, 170: {'token': 'wire', 'count': 1, 'tag': 'NN', 'frequency': 0.000683526999316473, 'sentiment': {'neg': 0.0, 'neu': 1.0, 'pos': 0.0, 'compound': 0.0}}, 1228: {'token': 'contract', 'count': 1, 'tag': 'NN', 'frequency': 0.000683526999316473, 'sentiment': {'neg': 0.0, 'neu': 1.0, 'pos': 0.0, 'compound': 0.0}}, 1288: {'token': 'sure', 'count': 1, 'tag': 'JJ', 'frequency': 0.000683526999316473, 'sentiment': {'neg': 0.0, 'neu': 0.0, 'pos': 1.0, 'compound': 0.3182}}, 952: {'token': 'addition', 'count': 1, 'tag': 'NN', 'frequency': 0.000683526999316473, 'sentiment': {'neg': 0.0, 'neu': 1.0, 'pos': 0.0, 'compound': 0.0}}, 546: {'token': 'devices', 'count': 2, 'tag': 'NNS', 'frequency': 0.001367053998632946, 'sentiment': {'neg': 0.0, 'neu': 1.0, 'pos': 0.0, 'compound': 0.0}}, 280: {'token': 'unpredictable', 'count': 1, 'tag': 'JJ', 'frequency': 0.000683526999316473, 'sentiment': {'neg': 0.0, 'neu': 1.0, 'pos': 0.0, 'compound': 0.0}}, 1333: {'token': 'correct', 'count': 1, 'tag': 'JJ', 'frequency': 0.000683526999316473, 'sentiment': {'neg': 0.0, 'neu': 1.0, 'pos': 0.0, 'compound': 0.0}}, 525: {'token': 'precautions', 'count': 2, 'tag': 'NNS', 'frequency': 0.001367053998632946, 'sentiment': {'neg': 0.0, 'neu': 1.0, 'pos': 0.0, 'compound': 0.0}}, 737: {'token': 'surge', 'count': 1, 'tag': 'NN', 'frequency': 0.000683526999316473, 'sentiment': {'neg': 0.0, 'neu': 1.0, 'pos': 0.0, 'compound': 0.0}}, 881: {'token': 'off', 'count': 1, 'tag': 'RP', 'frequency': 0.000683526999316473, 'sentiment': {'neg': 0.0, 'neu': 1.0, 'pos': 0.0, 'compound': 0.0}}, 1036: {'token': 'start', 'count': 1, 'tag': 'VBP', 'frequency': 0.000683526999316473, 'sentiment': {'neg': 0.0, 'neu': 1.0, 'pos': 0.0, 'compound': 0.0}}, 1214: {'token': 'sixteen', 'count': 1, 'tag': 'NN', 'frequency': 0.000683526999316473, 'sentiment': {'neg': 0.0, 'neu': 1.0, 'pos': 0.0, 'compound': 0.0}}, 41: {'token': 'complex', 'count': 1, 'tag': 'JJ', 'frequency': 0.000683526999316473, 'sentiment': {'neg': 0.0, 'neu': 1.0, 'pos': 0.0, 'compound': 0.0}}, 1035: {'token': 'fractions', 'count': 1, 'tag': 'NNS', 'frequency': 0.000683526999316473, 'sentiment': {'neg': 0.0, 'neu': 1.0, 'pos': 0.0, 'compound': 0.0}}, 110: {'token': 'this', 'count': 10, 'tag': 'DT', 'frequency': 0.00683526999316473, 'sentiment': {'neg': 0.0, 'neu': 1.0, 'pos': 0.0, 'compound': 0.0}}, 191: {'token': 'methods', 'count': 1, 'tag': 'NNS', 'frequency': 0.000683526999316473, 'sentiment': {'neg': 0.0, 'neu': 1.0, 'pos': 0.0, 'compound': 0.0}}, 368: {'token': 'away', 'count': 2, 'tag': 'RB', 'frequency': 0.001367053998632946, 'sentiment': {'neg': 0.0, 'neu': 1.0, 'pos': 0.0, 'compound': 0.0}}, 816: {'token': 'needs', 'count': 1, 'tag': 'NNS', 'frequency': 0.000683526999316473, 'sentiment': {'neg': 0.0, 'neu': 1.0, 'pos': 0.0, 'compound': 0.0}}, 963: {'token': 'copies', 'count': 1, 'tag': 'NNS', 'frequency': 0.000683526999316473, 'sentiment': {'neg': 0.0, 'neu': 1.0, 'pos': 0.0, 'compound': 0.0}}, 1120: {'token': 'version', 'count': 5, 'tag': 'NN', 'frequency': 0.003417634996582365, 'sentiment': {'neg': 0.0, 'neu': 1.0, 'pos': 0.0, 'compound': 0.0}}, 374: {'token': 'protecting', 'count': 2, 'tag': 'VBG', 'frequency': 0.001367053998632946, 'sentiment': {'neg': 0.0, 'neu': 1.0, 'pos': 0.0, 'compound': 0.0}}, 1280: {'token': 'i', 'count': 4, 'tag': 'NN', 'frequency': 0.002734107997265892, 'sentiment': {'neg': 0.0, 'neu': 0.0, 'pos': 0.0, 'compound': 0.0}}, 1438: {'token': 'discarded', 'count': 1, 'tag': 'VBN', 'frequency': 0.000683526999316473, 'sentiment': {'neg': 1.0, 'neu': 0.0, 'pos': 0.0, 'compound': -0.34}}, 636: {'token': 'time', 'count': 1, 'tag': 'NN', 'frequency': 0.000683526999316473, 'sentiment': {'neg': 0.0, 'neu': 1.0, 'pos': 0.0, 'compound': 0.0}}, 321: {'token': 'for', 'count': 14, 'tag': 'IN', 'frequency': 0.009569377990430622, 'sentiment': {'neg': 0.0, 'neu': 1.0, 'pos': 0.0, 'compound': 0.0}}, 887: {'token': 'become', 'count': 1, 'tag': 'VB', 'frequency': 0.000683526999316473, 'sentiment': {'neg': 0.0, 'neu': 1.0, 'pos': 0.0, 'compound': 0.0}}, 1356: {'token': 'longer', 'count': 1, 'tag': 'NN', 'frequency': 0.000683526999316473, 'sentiment': {'neg': 0.0, 'neu': 1.0, 'pos': 0.0, 'compound': 0.0}}, 244: {'token': 'more', 'count': 2, 'tag': 'RBR', 'frequency': 0.001367053998632946, 'sentiment': {'neg': 0.0, 'neu': 1.0, 'pos': 0.0, 'compound': 0.0}}, 935: {'token': 'even', 'count': 2, 'tag': 'RB', 'frequency': 0.001367053998632946, 'sentiment': {'neg': 0.0, 'neu': 1.0, 'pos': 0.0, 'compound': 0.0}}, 320: {'token': 'ground', 'count': 4, 'tag': 'NN', 'frequency': 0.002734107997265892, 'sentiment': {'neg': 0.0, 'neu': 1.0, 'pos': 0.0, 'compound': 0.0}}, 1056: {'token': 'started', 'count': 1, 'tag': 'VBD', 'frequency': 0.000683526999316473, 'sentiment': {'neg': 0.0, 'neu': 1.0, 'pos': 0.0, 'compound': 0.0}}, 216: {'token': 'generally', 'count': 1, 'tag': 'RB', 'frequency': 0.000683526999316473, 'sentiment': {'neg': 0.0, 'neu': 1.0, 'pos': 0.0, 'compound': 0.0}}}\n"
     ]
    }
   ],
   "source": [
    "tokens_clean = [token.lower() for token in tokens if not token.startswith(\"'\") and token not in string.punctuation]\n",
    "fdistClean = FreqDist(tokens_clean)\n",
    "tokens_unique = list(set(tokens_clean))\n",
    "tokens_hapaxes = set(fdistClean.hapaxes())\n",
    "tokens_tags = nltk.pos_tag(tokens_clean)\n",
    "\n",
    "tokens_final = {}\n",
    "i = 0\n",
    "for token in tokens_clean:\n",
    "    tokens_final[i] = {'token' : token, \n",
    "                       'count' : fdistClean[token],\n",
    "                       'tag' : find_tag(token, tokens_tags),\n",
    "                       'frequency' : fdistClean.freq(token), \n",
    "                       'sentiment' : sia.polarity_scores(token)}\n",
    "    i += 1\n",
    "\n",
    "    \n",
    "\n",
    "    \n",
    "tokens_unique_final = {}\n",
    "i = 0\n",
    "for token in tokens_unique:\n",
    "    tokens_unique_final[find_index(token, tokens_final)] = { 'token': token, \n",
    "                                                    'count' : fdistClean[token], \n",
    "                                                    'tag' : find_tag(token, tokens_tags),\n",
    "                                                    'frequency' : fdistClean.freq(token), \n",
    "                                                    'sentiment' : sia.polarity_scores(token)}\n",
    "    i += 1\n",
    "print(tokens_unique_final)\n",
    "\n",
    "    \n",
    "tokens_hapaxes_final = {}\n",
    "i = 0\n",
    "for token in tokens_hapaxes:\n",
    "    tokens_hapaxes_final[find_index(token, tokens_final)] = { 'token': token, \n",
    "                                                    'count' : fdistClean[token], \n",
    "                                                    'tag' : find_tag(token, tokens_tags),\n",
    "                                                    'frequency' : fdistClean.freq(token), \n",
    "                                                    'sentiment' : sia.polarity_scores(token)}\n",
    "    i += 1\n",
    "    \n",
    "tokens_unique_final_sorted = dict(sorted(tokens_unique_final.items()))\n"
   ]
  },
  {
   "cell_type": "code",
   "execution_count": null,
   "id": "8f2430c8",
   "metadata": {},
   "outputs": [],
   "source": []
  },
  {
   "cell_type": "code",
   "execution_count": 10,
   "id": "121f2296",
   "metadata": {},
   "outputs": [],
   "source": [
    "tokens_stemmed = [stemmer.stem(token) for token in tokens_clean if token.lower() not in stopwords]\n",
    "fdistStemmed = FreqDist(tokens_stemmed)\n",
    "tokens_stemmed_unique = list(set(tokens_stemmed))\n",
    "tokens_stemmed_hapaxes = set(fdistStemmed.hapaxes())\n",
    "tokens_stemmed_tags = nltk.pos_tag(tokens_stemmed)\n",
    "\n",
    "tokens_stemmed_final = {}\n",
    "i = 0\n",
    "for token in tokens_stemmed:\n",
    "    tokens_stemmed_final[i] = {'token' : token, \n",
    "                       'count' : fdistStemmed[token],\n",
    "                       'tag' : find_tag(token, tokens_stemmed_tags),\n",
    "                       'frequency' : fdistStemmed.freq(token), \n",
    "                       'sentiment' : sia.polarity_scores(token)}\n",
    "    i += 1\n",
    "    \n",
    "# print(tokens_stemmed_final)\n",
    "\n",
    "tokens_stemmed_unique_final = {}\n",
    "i = 0\n",
    "for token in tokens_stemmed_unique:\n",
    "    tokens_stemmed_unique_final[find_index(token, tokens_stemmed_final)] = { 'token': token,\n",
    "                                                    'count' : fdistStemmed[token],\n",
    "                                                    'tag' : find_tag(token, tokens_stemmed_tags),\n",
    "                                                    'frequency' : fdistStemmed.freq(token), \n",
    "                                                    'sentiment' : sia.polarity_scores(token)}\n",
    "    i += 1\n",
    "\n",
    "tokens_stemmed_hapaxes_final = {}\n",
    "i = 0\n",
    "for token in tokens_stemmed_hapaxes:\n",
    "    tokens_stemmed_hapaxes_final[find_index(token, tokens_stemmed_final)] = { 'token': token,\n",
    "                                                    'count' : fdistStemmed[token],\n",
    "                                                    'tag' : find_tag(token, tokens_stemmed_tags),\n",
    "                                                    'frequency' : fdistStemmed.freq(token), \n",
    "                                                    'sentiment' : sia.polarity_scores(token)}\n",
    "    i += 1\n",
    "\n",
    "    \n",
    "tokens_stemmed_unique_final_sorted = dict(sorted(tokens_stemmed_unique_final.items()))\n"
   ]
  },
  {
   "cell_type": "code",
   "execution_count": 11,
   "id": "7232423a",
   "metadata": {},
   "outputs": [],
   "source": [
    "# general stats\n",
    "txtSpecs = {\n",
    "    'totalTokens' : len(tokens),\n",
    "    'totalTokensClean' : len(tokens_clean),\n",
    "    'totalTokensUnique' : len(tokens_unique),\n",
    "    'totalTokensHapaxes' : len(tokens_hapaxes),\n",
    "    'totalFilteredStemmed' : len(tokens_stemmed),\n",
    "    'totalFilteredStemmedUnique' : len(tokens_stemmed_unique),\n",
    "    'totalFilteredStemmedHapaxes' : len(tokens_stemmed_hapaxes),\n",
    "    'totalSentences' : len(sentences),\n",
    "    'sentiment': {\n",
    "        'neg': overall_sentiment['neg'], \n",
    "        'neu': overall_sentiment['neu'], \n",
    "        'pos': overall_sentiment['pos'], \n",
    "        'compound': overall_sentiment['compound']\n",
    "    }\n",
    "}"
   ]
  },
  {
   "cell_type": "code",
   "execution_count": 12,
   "id": "d5470715",
   "metadata": {},
   "outputs": [],
   "source": [
    "# THINGS TO SAVE:\n",
    "# txtSpecs\n",
    "# tokens_final\n",
    "# tokens_unique_final\n",
    "# tokens_unique_final_sorted\n",
    "# tokens_hapaxes\n",
    "\n",
    "# tokens_stemmed_final\n",
    "# tokens_stemmed_unique_final\n",
    "# tokens_stemmed_unique_final_sorted\n",
    "# tokens_stemmed_hapaxes\n",
    "\n",
    "# sentences_sentiment\n",
    "# print(tokens_unique_final)"
   ]
  },
  {
   "cell_type": "code",
   "execution_count": 13,
   "id": "d050cf9f",
   "metadata": {},
   "outputs": [],
   "source": [
    "with open(os.path.join(os.getcwd(), '..', 'landigest/input/txtSpecs.txt'), \"w\") as file:\n",
    "    json.dump(txtSpecs, file)"
   ]
  },
  {
   "cell_type": "code",
   "execution_count": 14,
   "id": "e241a8d1",
   "metadata": {},
   "outputs": [],
   "source": [
    "# WRITE CLEAN BATCH #\n",
    "with open(os.path.join(os.getcwd(), '..', 'landigest/input/tokensFinal.csv'), \"w\", newline=\"\") as csvfile:\n",
    "    writer = csv.writer(csvfile)\n",
    "    writer.writerow(['index', 'token', 'count', 'tag', 'frequency', 'neg', 'neu', 'pos', 'compound'])\n",
    "    for item in tokens_final:\n",
    "        writer.writerow([item, tokens_final[item]['token'], tokens_final[item]['count'], tokens_final[item]['tag'], tokens_final[item]['frequency'], tokens_final[item]['sentiment']['neg'], tokens_final[item]['sentiment']['neu'], tokens_final[item]['sentiment']['pos'], tokens_final[item]['sentiment']['compound']])\n",
    "        "
   ]
  },
  {
   "cell_type": "code",
   "execution_count": 15,
   "id": "829da130",
   "metadata": {},
   "outputs": [],
   "source": [
    "with open(os.path.join(os.getcwd(), '..', 'landigest/input/tokensUnique.csv'), \"w\", newline=\"\") as csvfile:\n",
    "    writer = csv.writer(csvfile)\n",
    "    writer.writerow(['index', 'token', 'count', 'tag', 'frequency', 'neg', 'neu', 'pos', 'compound'])\n",
    "    for item in tokens_unique_final:\n",
    "        writer.writerow([item, tokens_unique_final[item]['token'], tokens_unique_final[item]['count'], tokens_unique_final[item]['tag'], tokens_unique_final[item]['frequency'], tokens_unique_final[item]['sentiment']['neg'], tokens_unique_final[item]['sentiment']['neu'], tokens_unique_final[item]['sentiment']['pos'], tokens_unique_final[item]['sentiment']['compound']])\n",
    "        "
   ]
  },
  {
   "cell_type": "code",
   "execution_count": 16,
   "id": "11cc643a",
   "metadata": {},
   "outputs": [],
   "source": [
    "with open(os.path.join(os.getcwd(), '..', 'landigest/input/tokensUniqueSorted.csv'), \"w\", newline=\"\") as csvfile:\n",
    "    writer = csv.writer(csvfile)\n",
    "    writer.writerow(['index', 'token', 'count', 'tag', 'frequency', 'neg', 'neu', 'pos', 'compound'])\n",
    "    for item in tokens_unique_final_sorted:\n",
    "        writer.writerow([item, tokens_unique_final_sorted[item]['token'], tokens_unique_final_sorted[item]['count'], tokens_unique_final_sorted[item]['tag'], tokens_unique_final_sorted[item]['frequency'], tokens_unique_final_sorted[item]['sentiment']['neg'], tokens_unique_final_sorted[item]['sentiment']['neu'], tokens_unique_final_sorted[item]['sentiment']['pos'], tokens_unique_final_sorted[item]['sentiment']['compound']])\n",
    "        "
   ]
  },
  {
   "cell_type": "code",
   "execution_count": 17,
   "id": "2e1158c4",
   "metadata": {},
   "outputs": [],
   "source": [
    "with open(os.path.join(os.getcwd(), '..', 'landigest/input/tokensHapaxes.csv'), \"w\", newline=\"\") as csvfile:\n",
    "    writer = csv.writer(csvfile)\n",
    "    writer.writerow(['index', 'token', 'count', 'tag', 'frequency', 'neg', 'neu', 'pos', 'compound'])\n",
    "    for item in tokens_hapaxes_final:\n",
    "        writer.writerow([item, tokens_hapaxes_final[item]['token'], tokens_hapaxes_final[item]['count'], tokens_hapaxes_final[item]['tag'], tokens_hapaxes_final[item]['frequency'], tokens_hapaxes_final[item]['sentiment']['neg'], tokens_hapaxes_final[item]['sentiment']['neu'], tokens_hapaxes_final[item]['sentiment']['pos'], tokens_hapaxes_final[item]['sentiment']['compound']])\n"
   ]
  },
  {
   "cell_type": "code",
   "execution_count": 20,
   "id": "0eafaead",
   "metadata": {},
   "outputs": [],
   "source": [
    "# WRITE STEMMED BATCH #\n",
    "with open(os.path.join(os.getcwd(), '..', 'landigest/input/tokensStemmedFinal.csv'), \"w\", newline=\"\") as csvfile:\n",
    "    writer = csv.writer(csvfile)\n",
    "    writer.writerow(['index', 'token', 'count', 'tag', 'frequency', 'neg', 'neu', 'pos', 'compound'])\n",
    "    for item in tokens_stemmed_final:\n",
    "        writer.writerow([item, tokens_stemmed_final[item]['token'], tokens_stemmed_final[item]['count'], tokens_stemmed_final[item]['tag'], tokens_stemmed_final[item]['frequency'], tokens_stemmed_final[item]['sentiment']['neg'], tokens_stemmed_final[item]['sentiment']['neu'], tokens_stemmed_final[item]['sentiment']['pos'], tokens_stemmed_final[item]['sentiment']['compound']])\n"
   ]
  },
  {
   "cell_type": "code",
   "execution_count": 21,
   "id": "3d1ae5bd",
   "metadata": {
    "extensions": {
     "jupyter_dashboards": {
      "version": 1,
      "views": {
       "grid_default": {},
       "report_default": {
        "hidden": true
       }
      }
     }
    }
   },
   "outputs": [],
   "source": [
    "with open(os.path.join(os.getcwd(), '..', 'landigest/input/tokensStemmedUnique.csv'), \"w\", newline=\"\") as csvfile:\n",
    "    writer = csv.writer(csvfile)\n",
    "    writer.writerow(['index', 'token', 'count', 'tag', 'frequency', 'neg', 'neu', 'pos', 'compound'])\n",
    "    for item in tokens_stemmed_unique_final:\n",
    "        writer.writerow([item, tokens_stemmed_unique_final[item]['token'], tokens_stemmed_unique_final[item]['count'], tokens_stemmed_unique_final[item]['tag'], tokens_stemmed_unique_final[item]['frequency'], tokens_stemmed_unique_final[item]['sentiment']['neg'], tokens_stemmed_unique_final[item]['sentiment']['neu'], tokens_stemmed_unique_final[item]['sentiment']['pos'], tokens_stemmed_unique_final[item]['sentiment']['compound']])\n"
   ]
  },
  {
   "cell_type": "code",
   "execution_count": 22,
   "id": "15e2dad3",
   "metadata": {},
   "outputs": [],
   "source": [
    "with open(os.path.join(os.getcwd(), '..', 'landigest/input/tokensStemmedUniqueSorted.csv'), \"w\", newline=\"\") as csvfile:\n",
    "    writer = csv.writer(csvfile)\n",
    "    writer.writerow(['index', 'token', 'count', 'tag', 'frequency', 'neg', 'neu', 'pos', 'compound'])\n",
    "    for item in tokens_stemmed_unique_final_sorted:\n",
    "        writer.writerow([item, tokens_stemmed_unique_final_sorted[item]['token'], tokens_stemmed_unique_final_sorted[item]['count'], tokens_stemmed_unique_final_sorted[item]['tag'], tokens_stemmed_unique_final_sorted[item]['frequency'], tokens_stemmed_unique_final_sorted[item]['sentiment']['neg'], tokens_stemmed_unique_final_sorted[item]['sentiment']['neu'], tokens_stemmed_unique_final_sorted[item]['sentiment']['pos'], tokens_stemmed_unique_final_sorted[item]['sentiment']['compound']])\n"
   ]
  },
  {
   "cell_type": "code",
   "execution_count": 23,
   "id": "f5c62fe2",
   "metadata": {},
   "outputs": [],
   "source": [
    "with open(os.path.join(os.getcwd(), '..', 'landigest/input/tokensStemmedHapaxes.csv'), \"w\", newline=\"\") as csvfile:\n",
    "    writer = csv.writer(csvfile)\n",
    "    writer.writerow(['index', 'token', 'count', 'tag', 'frequency', 'neg', 'neu', 'pos', 'compound'])\n",
    "    for item in tokens_stemmed_hapaxes_final:\n",
    "        writer.writerow([item, tokens_stemmed_hapaxes_final[item]['token'], tokens_stemmed_hapaxes_final[item]['count'], tokens_stemmed_hapaxes_final[item]['tag'], tokens_stemmed_hapaxes_final[item]['frequency'], tokens_stemmed_hapaxes_final[item]['sentiment']['neg'], tokens_stemmed_hapaxes_final[item]['sentiment']['neu'], tokens_stemmed_hapaxes_final[item]['sentiment']['pos'], tokens_stemmed_hapaxes_final[item]['sentiment']['compound']])\n"
   ]
  },
  {
   "cell_type": "code",
   "execution_count": 24,
   "id": "79a7143c",
   "metadata": {},
   "outputs": [],
   "source": [
    "with open(os.path.join(os.getcwd(), '..', 'landigest/input/sentencesSentiment.csv'), \"w\", newline=\"\") as csvfile:\n",
    "    writer = csv.writer(csvfile)\n",
    "    writer.writerow(['neg', 'neu', 'pos', 'compound', 'sentence'])\n",
    "    for item in sentences_sentiment:\n",
    "        writer.writerow([item['neg'], item['neu'], item['pos'] , item['compound'], item['sentence']])"
   ]
  },
  {
   "cell_type": "code",
   "execution_count": 33,
   "id": "79e818b6",
   "metadata": {},
   "outputs": [
    {
     "name": "stdout",
     "output_type": "stream",
     "text": [
      "1600\n",
      "803\n"
     ]
    }
   ],
   "source": [
    "print(len(tokens))\n",
    "print(len(tokens_stemmed_final))\n"
   ]
  },
  {
   "cell_type": "code",
   "execution_count": null,
   "id": "f441eb3c",
   "metadata": {},
   "outputs": [],
   "source": []
  }
 ],
 "metadata": {
  "extensions": {
   "jupyter_dashboards": {
    "activeView": "grid_default",
    "version": 1,
    "views": {
     "grid_default": {
      "cellMargin": 10,
      "defaultCellHeight": 20,
      "maxColumns": 12,
      "name": "grid",
      "type": "grid"
     },
     "report_default": {
      "name": "report",
      "type": "report"
     }
    }
   }
  },
  "kernelspec": {
   "display_name": "Python 3 (ipykernel)",
   "language": "python",
   "name": "python3"
  },
  "language_info": {
   "codemirror_mode": {
    "name": "ipython",
    "version": 3
   },
   "file_extension": ".py",
   "mimetype": "text/x-python",
   "name": "python",
   "nbconvert_exporter": "python",
   "pygments_lexer": "ipython3",
   "version": "3.10.4"
  }
 },
 "nbformat": 4,
 "nbformat_minor": 5
}
